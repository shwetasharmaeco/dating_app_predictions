{
 "cells": [
  {
   "cell_type": "code",
   "execution_count": 1,
   "metadata": {},
   "outputs": [
    {
     "name": "stderr",
     "output_type": "stream",
     "text": [
      "[nltk_data] Downloading package stopwords to\n",
      "[nltk_data]     /Users/shwetasharma1/nltk_data...\n",
      "[nltk_data]   Package stopwords is already up-to-date!\n",
      "[nltk_data] Downloading package punkt to\n",
      "[nltk_data]     /Users/shwetasharma1/nltk_data...\n",
      "[nltk_data]   Package punkt is already up-to-date!\n"
     ]
    }
   ],
   "source": [
    "import pandas as pd\n",
    "import matplotlib.pyplot as plt\n",
    "import numpy as np\n",
    "plt.style.use(\"ggplot\")\n",
    "from pylab import rcParams\n",
    "import seaborn as sns\n",
    "%matplotlib inline\n",
    "np.random.seed(27)\n",
    "rcParams['figure.figsize'] = 10, 6\n",
    "sns.set(style=\"darkgrid\")\n",
    "from sklearn.model_selection import train_test_split, KFold\n",
    "from imblearn.over_sampling import SMOTE\n",
    "from sklearn.linear_model import LogisticRegression\n",
    "from sklearn.metrics import accuracy_score, precision_score, recall_score, confusion_matrix, f1_score, roc_auc_score, roc_curve\n",
    "from sklearn.ensemble import RandomForestClassifier, GradientBoostingClassifier\n",
    "import pandas as pd\n",
    "import nltk\n",
    "import re\n",
    "import unicodedata\n",
    "from nltk.tokenize import sent_tokenize\n",
    "from nltk.tokenize import word_tokenize\n",
    "from nltk.corpus import stopwords\n",
    "\n",
    "import string\n",
    "nltk.download('stopwords')\n",
    "nltk.download('punkt')\n",
    "stopwords_ = set(stopwords.words('english'))\n",
    "punctuation_ = set(string.punctuation)\n",
    "\n",
    "from nltk.stem.snowball import SnowballStemmer\n",
    "stemmer_snowball = SnowballStemmer('english')\n",
    "\n",
    "from nltk.stem.porter import PorterStemmer\n",
    "stemmer_porter = PorterStemmer()\n",
    "from nltk.stem import WordNetLemmatizer\n",
    "from nltk import pos_tag\n",
    "\n",
    "from sklearn.feature_extraction.text import TfidfVectorizer"
   ]
  },
  {
   "cell_type": "code",
   "execution_count": 2,
   "metadata": {},
   "outputs": [],
   "source": [
    "df = pd.read_csv(\"./users_essay\")"
   ]
  },
  {
   "cell_type": "code",
   "execution_count": 3,
   "metadata": {},
   "outputs": [
    {
     "name": "stderr",
     "output_type": "stream",
     "text": [
      "/Users/shwetasharma1/opt/anaconda3/lib/python3.7/site-packages/ipykernel_launcher.py:4: SettingWithCopyWarning: \n",
      "A value is trying to be set on a copy of a slice from a DataFrame.\n",
      "Try using .loc[row_indexer,col_indexer] = value instead\n",
      "\n",
      "See the caveats in the documentation: https://pandas.pydata.org/pandas-docs/stable/user_guide/indexing.html#returning-a-view-versus-a-copy\n",
      "  after removing the cwd from sys.path.\n"
     ]
    }
   ],
   "source": [
    "rf_data = df[[\"age\", \"drinks\", \"education\", \"ethnicity\", \"orientation\", \"sex\", \"smokes\", \"religion\", \"drugs\", \"essay\"]]\n",
    "# rf_data = users_no_na[[\"drinks\",\"smokes\", \"drugs\"]]\n",
    "\n",
    "rf_data[\"drugs\"] = rf_data[\"drugs\"].replace([\"never\",\"sometimes\", \"often\"], [0,1,1])"
   ]
  },
  {
   "cell_type": "markdown",
   "metadata": {},
   "source": [
    "## PreProcessing for NLP"
   ]
  },
  {
   "cell_type": "code",
   "execution_count": 5,
   "metadata": {},
   "outputs": [],
   "source": [
    "def make_buckets(rf_data):\n",
    "    \n",
    "    # putting different ethnicities in wider buckets\n",
    "    \n",
    "    rf_data[\"ethnicity\"] = rf_data[\"ethnicity\"].fillna(\"other\")\n",
    "    rf_data.loc[rf_data['ethnicity'].str.contains('asian',), 'ethnicity'] = 'asian'\n",
    "    rf_data.loc[rf_data['ethnicity'].str.contains('indian'), 'ethnicity'] = 'asian'\n",
    "    rf_data.loc[rf_data[\"ethnicity\"].str.contains('hispanic / latin'), 'ethnicity'] = 'hispanic/latin'\n",
    "    rf_data.loc[rf_data[\"ethnicity\"].str.contains('american'), 'ethnicity'] = 'american'\n",
    "    rf_data.loc[rf_data[\"ethnicity\"].str.contains('native american'), 'ethnicity'] = 'american'\n",
    "    rf_data.loc[rf_data['ethnicity'].str.contains('black'), 'ethnicity'] = 'american'\n",
    "    rf_data.loc[rf_data[\"ethnicity\"].str.contains('pacific islander'), 'ethnicity'] = 'pacific islander'\n",
    "    rf_data.loc[rf_data[\"ethnicity\"].str.contains('white'), 'ethnicity'] = 'american'\n",
    "    rf_data.loc[rf_data[\"ethnicity\"].str.contains('middle eastern,'), 'ethnicity'] = 'middle eastern'\n",
    "    \n",
    "    # putting different religions in wider buckets\n",
    "\n",
    "    rf_data[\"religion\"] = rf_data[\"religion\"].fillna(\"other\")\n",
    "    rf_data.loc[rf_data['religion'].str.contains('agnosticism'), 'religion'] = 'agnosticism'\n",
    "    rf_data.loc[rf_data['religion'].str.contains('atheism'), 'religion'] = 'atheism'\n",
    "    rf_data.loc[rf_data['religion'].str.contains('catholicism'), 'religion'] = 'catholicism'\n",
    "    rf_data.loc[rf_data['religion'].str.contains('buddhism'), 'religion'] = 'buddhism'\n",
    "    rf_data.loc[rf_data['religion'].str.contains('other'), 'religion'] = 'other'\n",
    "    rf_data.loc[rf_data['religion'].str.contains('hinduism'), 'religion'] = 'hinduism'\n",
    "    rf_data.loc[rf_data['religion'].str.contains('islam'), 'religion'] = 'islam'\n",
    "    rf_data.loc[rf_data['religion'].str.contains('judaism'), 'religion'] = 'judaism'\n",
    "    rf_data.loc[rf_data['religion'].str.contains('christianity'), 'religion'] = 'christianity'\n",
    "    \n",
    "    # putting different education classes in wider buckets\n",
    "\n",
    "\n",
    "    rf_data[\"education\"] = rf_data[\"education\"].fillna('in college/university')\n",
    "    rf_data.loc[rf_data['education'].str.contains(\"graduated\"), 'education'] = 'graduated'\n",
    "    rf_data.loc[rf_data['education'].str.contains(\"working\"), 'education'] = 'in college/university'\n",
    "    rf_data.loc[rf_data['education'].str.contains(\"two-year college\"), 'education'] = 'in college/university'\n",
    "    rf_data.loc[rf_data['education'].str.contains(\"masters program\"), 'education'] = 'in college/university'\n",
    "    rf_data.loc[rf_data['education'].str.contains(\"law school\"), 'education'] = 'in college/university'\n",
    "    rf_data.loc[rf_data['education'].str.contains(\"space camp\"), 'education'] = 'in college/university'\n",
    "    rf_data.loc[rf_data['education'].str.contains(\"ph.d program\"), 'education'] = 'in college/university'\n",
    "    rf_data.loc[rf_data['education'].str.contains(\"med school\"), 'education'] = 'in college/university'\n",
    "    rf_data.loc[rf_data['education'].str.contains(\"college/university\"), 'education'] = 'in college/university'\n",
    "    rf_data.loc[rf_data['education'].str.contains(\"dropped out\"), 'education'] = 'dropped out'\n",
    "    \n",
    "    #treating nans\n",
    "    rf_data[\"drinks\"] = rf_data[\"drinks\"].fillna(\"not at all\")\n",
    "    rf_data[\"smokes\"] = rf_data[\"smokes\"].fillna(\"no\")"
   ]
  },
  {
   "cell_type": "code",
   "execution_count": 6,
   "metadata": {},
   "outputs": [
    {
     "name": "stderr",
     "output_type": "stream",
     "text": [
      "/Users/shwetasharma1/opt/anaconda3/lib/python3.7/site-packages/ipykernel_launcher.py:2: SettingWithCopyWarning: \n",
      "A value is trying to be set on a copy of a slice from a DataFrame.\n",
      "Try using .loc[row_indexer,col_indexer] = value instead\n",
      "\n",
      "See the caveats in the documentation: https://pandas.pydata.org/pandas-docs/stable/user_guide/indexing.html#returning-a-view-versus-a-copy\n",
      "  \n",
      "/Users/shwetasharma1/opt/anaconda3/lib/python3.7/site-packages/pandas/core/indexing.py:965: SettingWithCopyWarning: \n",
      "A value is trying to be set on a copy of a slice from a DataFrame.\n",
      "Try using .loc[row_indexer,col_indexer] = value instead\n",
      "\n",
      "See the caveats in the documentation: https://pandas.pydata.org/pandas-docs/stable/user_guide/indexing.html#returning-a-view-versus-a-copy\n",
      "  self.obj[item] = s\n",
      "/Users/shwetasharma1/opt/anaconda3/lib/python3.7/site-packages/ipykernel_launcher.py:15: SettingWithCopyWarning: \n",
      "A value is trying to be set on a copy of a slice from a DataFrame.\n",
      "Try using .loc[row_indexer,col_indexer] = value instead\n",
      "\n",
      "See the caveats in the documentation: https://pandas.pydata.org/pandas-docs/stable/user_guide/indexing.html#returning-a-view-versus-a-copy\n",
      "  from ipykernel import kernelapp as app\n",
      "/Users/shwetasharma1/opt/anaconda3/lib/python3.7/site-packages/ipykernel_launcher.py:29: SettingWithCopyWarning: \n",
      "A value is trying to be set on a copy of a slice from a DataFrame.\n",
      "Try using .loc[row_indexer,col_indexer] = value instead\n",
      "\n",
      "See the caveats in the documentation: https://pandas.pydata.org/pandas-docs/stable/user_guide/indexing.html#returning-a-view-versus-a-copy\n",
      "/Users/shwetasharma1/opt/anaconda3/lib/python3.7/site-packages/ipykernel_launcher.py:42: SettingWithCopyWarning: \n",
      "A value is trying to be set on a copy of a slice from a DataFrame.\n",
      "Try using .loc[row_indexer,col_indexer] = value instead\n",
      "\n",
      "See the caveats in the documentation: https://pandas.pydata.org/pandas-docs/stable/user_guide/indexing.html#returning-a-view-versus-a-copy\n",
      "/Users/shwetasharma1/opt/anaconda3/lib/python3.7/site-packages/ipykernel_launcher.py:43: SettingWithCopyWarning: \n",
      "A value is trying to be set on a copy of a slice from a DataFrame.\n",
      "Try using .loc[row_indexer,col_indexer] = value instead\n",
      "\n",
      "See the caveats in the documentation: https://pandas.pydata.org/pandas-docs/stable/user_guide/indexing.html#returning-a-view-versus-a-copy\n"
     ]
    }
   ],
   "source": [
    "make_buckets(rf_data)"
   ]
  },
  {
   "cell_type": "code",
   "execution_count": 7,
   "metadata": {},
   "outputs": [],
   "source": [
    "cleaned_rf_data = rf_data[[\"age\", \"drinks\", \"education\", \"ethnicity\", \"orientation\", \"sex\", \"smokes\", \"religion\", \"drugs\"]]\n",
    "cleaned_rf_data_dummified = pd.get_dummies(cleaned_rf_data)"
   ]
  },
  {
   "cell_type": "code",
   "execution_count": 8,
   "metadata": {},
   "outputs": [],
   "source": [
    "cleaned_rf_data_dummified = pd.concat([cleaned_rf_data_dummified, rf_data[\"essay\"]], axis = 1)"
   ]
  },
  {
   "cell_type": "code",
   "execution_count": 9,
   "metadata": {},
   "outputs": [],
   "source": [
    "X_nlp = cleaned_rf_data_dummified.loc[:,cleaned_rf_data_dummified.columns != \"drugs\"]\n",
    "\n",
    "\n",
    "y_nlp = cleaned_rf_data_dummified.loc[:,cleaned_rf_data_dummified.columns == \"drugs\"]"
   ]
  },
  {
   "cell_type": "code",
   "execution_count": 16,
   "metadata": {},
   "outputs": [],
   "source": [
    "X_nlp_train, X_nlp_test, y_nlp_train, y_nlp_test = train_test_split(X_nlp, y_nlp, test_size = .10, random_state=1)"
   ]
  },
  {
   "cell_type": "code",
   "execution_count": 17,
   "metadata": {},
   "outputs": [],
   "source": [
    "# X_nlp_test = X_nlp_test.drop(\"essay\", axis = 1)"
   ]
  },
  {
   "cell_type": "markdown",
   "metadata": {},
   "source": [
    "## TFIDF vectorization"
   ]
  },
  {
   "cell_type": "code",
   "execution_count": 18,
   "metadata": {},
   "outputs": [],
   "source": [
    "tfidf = TfidfVectorizer(max_features = 5000)"
   ]
  },
  {
   "cell_type": "code",
   "execution_count": 19,
   "metadata": {},
   "outputs": [],
   "source": [
    "tfidf_matrix_train = tfidf.fit_transform(X_nlp_train.essay.values.astype('U'))"
   ]
  },
  {
   "cell_type": "code",
   "execution_count": 20,
   "metadata": {},
   "outputs": [],
   "source": [
    "tfidf_matrix_test =  tfidf.transform(X_nlp_test.essay.values.astype('U'))"
   ]
  },
  {
   "cell_type": "code",
   "execution_count": 21,
   "metadata": {},
   "outputs": [],
   "source": [
    "data_train = pd.DataFrame(tfidf_matrix_train.toarray(), columns=tfidf.get_feature_names())\n",
    "data_test = pd.DataFrame(tfidf_matrix_test.toarray(), columns=tfidf.get_feature_names())"
   ]
  },
  {
   "cell_type": "code",
   "execution_count": 22,
   "metadata": {},
   "outputs": [],
   "source": [
    "data_train.reset_index(drop=True, inplace=True)\n",
    "X_nlp_train.reset_index(drop=True, inplace=True)\n",
    "df_nlp_train = pd.concat([data_train, X_nlp_train], axis=1)\n",
    "\n",
    "data_test.reset_index(drop=True, inplace=True)\n",
    "X_nlp_test.reset_index(drop=True, inplace=True)\n",
    "df_nlp_test = pd.concat([data_test, X_nlp_test], axis=1)"
   ]
  },
  {
   "cell_type": "code",
   "execution_count": 24,
   "metadata": {},
   "outputs": [],
   "source": [
    "df_nlp_test = df_nlp_test.drop(\"essay\", axis=1)\n",
    "df_nlp_train = df_nlp_train.drop(\"essay\", axis=1);"
   ]
  },
  {
   "cell_type": "code",
   "execution_count": 25,
   "metadata": {},
   "outputs": [],
   "source": [
    "df_nlp_train.reset_index(drop=True, inplace=True)\n",
    "y_nlp_train.reset_index(drop=True, inplace=True)\n",
    "\n",
    "new_train = pd.concat([df_nlp_train, y_nlp_train], axis = 1)\n",
    "\n",
    "\n",
    "\n",
    "\n",
    "df_nlp_test.reset_index(drop=True, inplace=True)\n",
    "y_nlp_test.reset_index(drop=True, inplace=True)\n",
    "new_test = pd.concat([df_nlp_test, y_nlp_test], axis = 1)"
   ]
  },
  {
   "cell_type": "code",
   "execution_count": 26,
   "metadata": {},
   "outputs": [],
   "source": [
    "untouched_x = new_test.loc[:, new_test.columns != \"drugs\"]\n",
    "untouched_y = new_test.loc[:, new_test.columns == \"drugs\"]"
   ]
  },
  {
   "cell_type": "markdown",
   "metadata": {},
   "source": [
    "## OVERSAMPLING"
   ]
  },
  {
   "cell_type": "code",
   "execution_count": 27,
   "metadata": {},
   "outputs": [],
   "source": [
    "# Class count\n",
    "count_class_0, count_class_1 = new_train[\"drugs\"].value_counts()\n",
    "\n",
    "rf_class_0 = new_train[new_train['drugs'] == 0]\n",
    "rf_class_1 = new_train[new_train['drugs'] == 1]"
   ]
  },
  {
   "cell_type": "code",
   "execution_count": 28,
   "metadata": {},
   "outputs": [
    {
     "name": "stdout",
     "output_type": "stream",
     "text": [
      "Random over-sampling:\n",
      "1    33922\n",
      "0    33922\n",
      "Name: drugs, dtype: int64\n"
     ]
    },
    {
     "data": {
      "image/png": "[encoded data removed]",
      "text/plain": [
       "<Figure size 720x432 with 1 Axes>"
      ]
     },
     "metadata": {},
     "output_type": "display_data"
    }
   ],
   "source": [
    "rf_class_1_over = rf_class_1.sample(count_class_0, replace=True)\n",
    "rf_test_over = pd.concat([rf_class_0, rf_class_1_over], axis=0)\n",
    "\n",
    "print('Random over-sampling:')\n",
    "print(rf_test_over[\"drugs\"].value_counts())\n",
    "\n",
    "rf_test_over[\"drugs\"].value_counts().plot(kind='bar', title='Count (target)');"
   ]
  },
  {
   "cell_type": "code",
   "execution_count": 29,
   "metadata": {},
   "outputs": [],
   "source": [
    "X_nlp_over = rf_test_over.loc[:, rf_test_over.columns != \"drugs\"]\n",
    "y_nlp_over = rf_test_over.loc[:, rf_test_over.columns ==\"drugs\"]\n",
    "X_nlp_over_train, X_nlp_over_test, y_nlp_over_train, y_nlp_over_test = train_test_split(X_nlp_over, y_nlp_over, test_size=0.10, random_state=1)\n",
    "# model = RandomForestClassifier()\n",
    "# model.fit(X_rf_over_train, y_rf_over_train)\n",
    "# y_rf_over_preds = model.predict(X_rf_over_test)"
   ]
  },
  {
   "cell_type": "code",
   "execution_count": 30,
   "metadata": {},
   "outputs": [],
   "source": [
    "def run_model(estimator, X, y):\n",
    "    kf = KFold(n_splits=5, shuffle=True)\n",
    "    \n",
    "    acc = []\n",
    "    f1 = []\n",
    "    for train_idx, test_idx in kf.split(X):\n",
    "        X_train = X[train_idx]\n",
    "        y_train = y[train_idx]\n",
    "         \n",
    "        \n",
    "        X_test = X[test_idx]\n",
    "        y_test = y[test_idx]\n",
    "\n",
    "        # data prep\n",
    "        \n",
    "        estimator.fit(X_train, y_train)\n",
    "        y_preds = estimator.predict(X_test)\n",
    "        acc.append(accuracy_score(y_test, y_preds))\n",
    "        f1.append(f1_score(y_test, y_preds))\n",
    "    \n",
    "    generate_model_report(y_test, y_preds)\n",
    "        \n",
    "    plt.plot(range(0, 5), f1, label=estimator.__class__.__name__)\n",
    "    \n",
    "def generate_model_report(y_actual, y_predicted):\n",
    "    print('Accuracy: %.3f' % accuracy_score(y_actual, y_predicted))\n",
    "    print('Precision: %.3f' % precision_score(y_actual, y_predicted))\n",
    "    print( 'Recall: %.3f' % recall_score(y_actual, y_predicted))\n",
    "    print('F1 score: %.3f' % f1_score(y_actual, y_predicted))"
   ]
  },
  {
   "cell_type": "code",
   "execution_count": 31,
   "metadata": {},
   "outputs": [
    {
     "data": {
      "text/plain": [
       "RandomForestClassifier()"
      ]
     },
     "execution_count": 31,
     "metadata": {},
     "output_type": "execute_result"
    }
   ],
   "source": [
    "model = RandomForestClassifier()\n",
    "model.fit(X_nlp_over_train.values, y_nlp_over_train[\"drugs\"].values)\n"
   ]
  },
  {
   "cell_type": "code",
   "execution_count": 32,
   "metadata": {},
   "outputs": [],
   "source": [
    "y_nlp_over_preds = model.predict(X_nlp_over_test)"
   ]
  },
  {
   "cell_type": "code",
   "execution_count": 33,
   "metadata": {},
   "outputs": [
    {
     "name": "stdout",
     "output_type": "stream",
     "text": [
      "Accuracy: 0.978\n",
      "Precision: 0.968\n",
      "Recall: 0.989\n",
      "F1 score: 0.978\n"
     ]
    }
   ],
   "source": [
    "generate_model_report(y_nlp_over_test, y_nlp_over_preds)"
   ]
  },
  {
   "cell_type": "code",
   "execution_count": 34,
   "metadata": {},
   "outputs": [
    {
     "name": "stdout",
     "output_type": "stream",
     "text": [
      "Accuracy: 0.844\n",
      "Precision: 0.599\n",
      "Recall: 0.265\n",
      "F1 score: 0.367\n"
     ]
    }
   ],
   "source": [
    "y_nlp_final_preds = model.predict(untouched_x)\n",
    "generate_model_report(untouched_y, y_nlp_final_preds)"
   ]
  },
  {
   "cell_type": "code",
   "execution_count": 35,
   "metadata": {},
   "outputs": [
    {
     "name": "stdout",
     "output_type": "stream",
     "text": [
      "Accuracy: 0.965\n",
      "Precision: 0.952\n",
      "Recall: 0.979\n",
      "F1 score: 0.965\n"
     ]
    },
    {
     "ename": "KeyboardInterrupt",
     "evalue": "",
     "output_type": "error",
     "traceback": [
      "\u001b[0;31m---------------------------------------------------------------------------\u001b[0m",
      "\u001b[0;31mKeyboardInterrupt\u001b[0m                         Traceback (most recent call last)",
      "\u001b[0;32m<ipython-input-35-dde8f7c05e0c>\u001b[0m in \u001b[0;36m<module>\u001b[0;34m\u001b[0m\n\u001b[1;32m      1\u001b[0m \u001b[0mestimators\u001b[0m \u001b[0;34m=\u001b[0m \u001b[0;34m[\u001b[0m\u001b[0mRandomForestClassifier\u001b[0m\u001b[0;34m(\u001b[0m\u001b[0;34m)\u001b[0m\u001b[0;34m,\u001b[0m \u001b[0mGradientBoostingClassifier\u001b[0m\u001b[0;34m(\u001b[0m\u001b[0;34m)\u001b[0m\u001b[0;34m]\u001b[0m\u001b[0;34m\u001b[0m\u001b[0;34m\u001b[0m\u001b[0m\n\u001b[1;32m      2\u001b[0m \u001b[0;32mfor\u001b[0m \u001b[0mestimator\u001b[0m \u001b[0;32min\u001b[0m \u001b[0mestimators\u001b[0m\u001b[0;34m:\u001b[0m\u001b[0;34m\u001b[0m\u001b[0;34m\u001b[0m\u001b[0m\n\u001b[0;32m----> 3\u001b[0;31m     \u001b[0mrun_model\u001b[0m\u001b[0;34m(\u001b[0m\u001b[0mestimator\u001b[0m\u001b[0;34m,\u001b[0m \u001b[0mX_nlp_over_train\u001b[0m\u001b[0;34m.\u001b[0m\u001b[0mvalues\u001b[0m\u001b[0;34m,\u001b[0m \u001b[0my_nlp_over_train\u001b[0m\u001b[0;34m[\u001b[0m\u001b[0;34m\"drugs\"\u001b[0m\u001b[0;34m]\u001b[0m\u001b[0;34m.\u001b[0m\u001b[0mvalues\u001b[0m\u001b[0;34m)\u001b[0m\u001b[0;34m\u001b[0m\u001b[0;34m\u001b[0m\u001b[0m\n\u001b[0m\u001b[1;32m      4\u001b[0m \u001b[0;34m\u001b[0m\u001b[0m\n\u001b[1;32m      5\u001b[0m \u001b[0mplt\u001b[0m\u001b[0;34m.\u001b[0m\u001b[0mylabel\u001b[0m\u001b[0;34m(\u001b[0m\u001b[0;34m'Accuracy'\u001b[0m\u001b[0;34m,\u001b[0m \u001b[0mfontsize\u001b[0m\u001b[0;34m=\u001b[0m\u001b[0;36m20\u001b[0m\u001b[0;34m)\u001b[0m\u001b[0;34m\u001b[0m\u001b[0;34m\u001b[0m\u001b[0m\n",
      "\u001b[0;32m<ipython-input-30-b0d9d98422b3>\u001b[0m in \u001b[0;36mrun_model\u001b[0;34m(estimator, X, y)\u001b[0m\n\u001b[1;32m     14\u001b[0m         \u001b[0;31m# data prep\u001b[0m\u001b[0;34m\u001b[0m\u001b[0;34m\u001b[0m\u001b[0;34m\u001b[0m\u001b[0m\n\u001b[1;32m     15\u001b[0m \u001b[0;34m\u001b[0m\u001b[0m\n\u001b[0;32m---> 16\u001b[0;31m         \u001b[0mestimator\u001b[0m\u001b[0;34m.\u001b[0m\u001b[0mfit\u001b[0m\u001b[0;34m(\u001b[0m\u001b[0mX_train\u001b[0m\u001b[0;34m,\u001b[0m \u001b[0my_train\u001b[0m\u001b[0;34m)\u001b[0m\u001b[0;34m\u001b[0m\u001b[0;34m\u001b[0m\u001b[0m\n\u001b[0m\u001b[1;32m     17\u001b[0m         \u001b[0my_preds\u001b[0m \u001b[0;34m=\u001b[0m \u001b[0mestimator\u001b[0m\u001b[0;34m.\u001b[0m\u001b[0mpredict\u001b[0m\u001b[0;34m(\u001b[0m\u001b[0mX_test\u001b[0m\u001b[0;34m)\u001b[0m\u001b[0;34m\u001b[0m\u001b[0;34m\u001b[0m\u001b[0m\n\u001b[1;32m     18\u001b[0m         \u001b[0macc\u001b[0m\u001b[0;34m.\u001b[0m\u001b[0mappend\u001b[0m\u001b[0;34m(\u001b[0m\u001b[0maccuracy_score\u001b[0m\u001b[0;34m(\u001b[0m\u001b[0my_test\u001b[0m\u001b[0;34m,\u001b[0m \u001b[0my_preds\u001b[0m\u001b[0;34m)\u001b[0m\u001b[0;34m)\u001b[0m\u001b[0;34m\u001b[0m\u001b[0;34m\u001b[0m\u001b[0m\n",
      "\u001b[0;32m~/opt/anaconda3/lib/python3.7/site-packages/sklearn/ensemble/_gb.py\u001b[0m in \u001b[0;36mfit\u001b[0;34m(self, X, y, sample_weight, monitor)\u001b[0m\n\u001b[1;32m    498\u001b[0m         n_stages = self._fit_stages(\n\u001b[1;32m    499\u001b[0m             \u001b[0mX\u001b[0m\u001b[0;34m,\u001b[0m \u001b[0my\u001b[0m\u001b[0;34m,\u001b[0m \u001b[0mraw_predictions\u001b[0m\u001b[0;34m,\u001b[0m \u001b[0msample_weight\u001b[0m\u001b[0;34m,\u001b[0m \u001b[0mself\u001b[0m\u001b[0;34m.\u001b[0m\u001b[0m_rng\u001b[0m\u001b[0;34m,\u001b[0m \u001b[0mX_val\u001b[0m\u001b[0;34m,\u001b[0m \u001b[0my_val\u001b[0m\u001b[0;34m,\u001b[0m\u001b[0;34m\u001b[0m\u001b[0;34m\u001b[0m\u001b[0m\n\u001b[0;32m--> 500\u001b[0;31m             sample_weight_val, begin_at_stage, monitor, X_idx_sorted)\n\u001b[0m\u001b[1;32m    501\u001b[0m \u001b[0;34m\u001b[0m\u001b[0m\n\u001b[1;32m    502\u001b[0m         \u001b[0;31m# change shape of arrays after fit (early-stopping or additional ests)\u001b[0m\u001b[0;34m\u001b[0m\u001b[0;34m\u001b[0m\u001b[0;34m\u001b[0m\u001b[0m\n",
      "\u001b[0;32m~/opt/anaconda3/lib/python3.7/site-packages/sklearn/ensemble/_gb.py\u001b[0m in \u001b[0;36m_fit_stages\u001b[0;34m(self, X, y, raw_predictions, sample_weight, random_state, X_val, y_val, sample_weight_val, begin_at_stage, monitor, X_idx_sorted)\u001b[0m\n\u001b[1;32m    555\u001b[0m             raw_predictions = self._fit_stage(\n\u001b[1;32m    556\u001b[0m                 \u001b[0mi\u001b[0m\u001b[0;34m,\u001b[0m \u001b[0mX\u001b[0m\u001b[0;34m,\u001b[0m \u001b[0my\u001b[0m\u001b[0;34m,\u001b[0m \u001b[0mraw_predictions\u001b[0m\u001b[0;34m,\u001b[0m \u001b[0msample_weight\u001b[0m\u001b[0;34m,\u001b[0m \u001b[0msample_mask\u001b[0m\u001b[0;34m,\u001b[0m\u001b[0;34m\u001b[0m\u001b[0;34m\u001b[0m\u001b[0m\n\u001b[0;32m--> 557\u001b[0;31m                 random_state, X_idx_sorted, X_csc, X_csr)\n\u001b[0m\u001b[1;32m    558\u001b[0m \u001b[0;34m\u001b[0m\u001b[0m\n\u001b[1;32m    559\u001b[0m             \u001b[0;31m# track deviance (= loss)\u001b[0m\u001b[0;34m\u001b[0m\u001b[0;34m\u001b[0m\u001b[0;34m\u001b[0m\u001b[0m\n",
      "\u001b[0;32m~/opt/anaconda3/lib/python3.7/site-packages/sklearn/ensemble/_gb.py\u001b[0m in \u001b[0;36m_fit_stage\u001b[0;34m(self, i, X, y, raw_predictions, sample_weight, sample_mask, random_state, X_idx_sorted, X_csc, X_csr)\u001b[0m\n\u001b[1;32m    210\u001b[0m             \u001b[0mX\u001b[0m \u001b[0;34m=\u001b[0m \u001b[0mX_csr\u001b[0m \u001b[0;32mif\u001b[0m \u001b[0mX_csr\u001b[0m \u001b[0;32mis\u001b[0m \u001b[0;32mnot\u001b[0m \u001b[0;32mNone\u001b[0m \u001b[0;32melse\u001b[0m \u001b[0mX\u001b[0m\u001b[0;34m\u001b[0m\u001b[0;34m\u001b[0m\u001b[0m\n\u001b[1;32m    211\u001b[0m             tree.fit(X, residual, sample_weight=sample_weight,\n\u001b[0;32m--> 212\u001b[0;31m                      check_input=False, X_idx_sorted=X_idx_sorted)\n\u001b[0m\u001b[1;32m    213\u001b[0m \u001b[0;34m\u001b[0m\u001b[0m\n\u001b[1;32m    214\u001b[0m             \u001b[0;31m# update tree leaves\u001b[0m\u001b[0;34m\u001b[0m\u001b[0;34m\u001b[0m\u001b[0;34m\u001b[0m\u001b[0m\n",
      "\u001b[0;32m~/opt/anaconda3/lib/python3.7/site-packages/sklearn/tree/_classes.py\u001b[0m in \u001b[0;36mfit\u001b[0;34m(self, X, y, sample_weight, check_input, X_idx_sorted)\u001b[0m\n\u001b[1;32m   1244\u001b[0m             \u001b[0msample_weight\u001b[0m\u001b[0;34m=\u001b[0m\u001b[0msample_weight\u001b[0m\u001b[0;34m,\u001b[0m\u001b[0;34m\u001b[0m\u001b[0;34m\u001b[0m\u001b[0m\n\u001b[1;32m   1245\u001b[0m             \u001b[0mcheck_input\u001b[0m\u001b[0;34m=\u001b[0m\u001b[0mcheck_input\u001b[0m\u001b[0;34m,\u001b[0m\u001b[0;34m\u001b[0m\u001b[0;34m\u001b[0m\u001b[0m\n\u001b[0;32m-> 1246\u001b[0;31m             X_idx_sorted=X_idx_sorted)\n\u001b[0m\u001b[1;32m   1247\u001b[0m         \u001b[0;32mreturn\u001b[0m \u001b[0mself\u001b[0m\u001b[0;34m\u001b[0m\u001b[0;34m\u001b[0m\u001b[0m\n\u001b[1;32m   1248\u001b[0m \u001b[0;34m\u001b[0m\u001b[0m\n",
      "\u001b[0;32m~/opt/anaconda3/lib/python3.7/site-packages/sklearn/tree/_classes.py\u001b[0m in \u001b[0;36mfit\u001b[0;34m(self, X, y, sample_weight, check_input, X_idx_sorted)\u001b[0m\n\u001b[1;32m    373\u001b[0m                                            min_impurity_split)\n\u001b[1;32m    374\u001b[0m \u001b[0;34m\u001b[0m\u001b[0m\n\u001b[0;32m--> 375\u001b[0;31m         \u001b[0mbuilder\u001b[0m\u001b[0;34m.\u001b[0m\u001b[0mbuild\u001b[0m\u001b[0;34m(\u001b[0m\u001b[0mself\u001b[0m\u001b[0;34m.\u001b[0m\u001b[0mtree_\u001b[0m\u001b[0;34m,\u001b[0m \u001b[0mX\u001b[0m\u001b[0;34m,\u001b[0m \u001b[0my\u001b[0m\u001b[0;34m,\u001b[0m \u001b[0msample_weight\u001b[0m\u001b[0;34m,\u001b[0m \u001b[0mX_idx_sorted\u001b[0m\u001b[0;34m)\u001b[0m\u001b[0;34m\u001b[0m\u001b[0;34m\u001b[0m\u001b[0m\n\u001b[0m\u001b[1;32m    376\u001b[0m \u001b[0;34m\u001b[0m\u001b[0m\n\u001b[1;32m    377\u001b[0m         \u001b[0;32mif\u001b[0m \u001b[0mself\u001b[0m\u001b[0;34m.\u001b[0m\u001b[0mn_outputs_\u001b[0m \u001b[0;34m==\u001b[0m \u001b[0;36m1\u001b[0m \u001b[0;32mand\u001b[0m \u001b[0mis_classifier\u001b[0m\u001b[0;34m(\u001b[0m\u001b[0mself\u001b[0m\u001b[0;34m)\u001b[0m\u001b[0;34m:\u001b[0m\u001b[0;34m\u001b[0m\u001b[0;34m\u001b[0m\u001b[0m\n",
      "\u001b[0;31mKeyboardInterrupt\u001b[0m: "
     ]
    },
    {
     "data": {
      "image/png": "[encoded data removed]",
      "text/plain": [
       "<Figure size 720x432 with 1 Axes>"
      ]
     },
     "metadata": {},
     "output_type": "display_data"
    }
   ],
   "source": [
    "estimators = [RandomForestClassifier(), GradientBoostingClassifier()]\n",
    "for estimator in estimators:\n",
    "    run_model(estimator, X_nlp_over_train.values, y_nlp_over_train[\"drugs\"].values)\n",
    "    \n",
    "plt.ylabel('Accuracy', fontsize=20)\n",
    "plt.xlabel('# of Folds', fontsize=20)\n",
    "plt.legend()"
   ]
  },
  {
   "cell_type": "code",
   "execution_count": null,
   "metadata": {},
   "outputs": [],
   "source": [
    "y_nlp_final_preds = model.predict(untouched_x)\n",
    "generate_model_report(untouched_y, y_nlp_final_preds)"
   ]
  },
  {
   "cell_type": "markdown",
   "metadata": {},
   "source": [
    "## Grid Search"
   ]
  },
  {
   "cell_type": "code",
   "execution_count": null,
   "metadata": {},
   "outputs": [],
   "source": [
    "from sklearn.model_selection import GridSearchCV\n",
    "\n",
    "def display_default_and_gsearch_model_results(model_default, model_gridsearch, \n",
    "                                              X_test, y_test):\n",
    "    '''\n",
    "        Parameters: model_default: fit model using initial parameters\n",
    "                    model_gridsearch: fit model using parameters from gridsearch\n",
    "                    X_test: 2d numpy array\n",
    "                    y_test: 1d numpy array\n",
    "        Return: None, but prints out mse and r2 for the default and model with\n",
    "                gridsearched parameters\n",
    "    '''\n",
    "    name = model_default.__class__.__name__.replace('Classifier', '') # for printing\n",
    "    y_test_pred = model_gridsearch.predict(X_test)\n",
    "    acc = accuracy_score(y_test, y_test_pred)\n",
    "    print(\"Results for {0}\".format(name))\n",
    "    print(\"Gridsearched model acc: {:0.3f}\".format(acc))\n",
    "    y_test_pred = model_default.predict(X_test)\n",
    "    acc = accuracy_score(y_test, y_test_pred)\n",
    "    print(\"     Default model acc: {:0.3f}\".format(acc))\n",
    "    \n",
    "    \n",
    "    \n",
    "def gridsearch_with_output(estimator, parameter_grid, X_train, y_train):\n",
    "    '''\n",
    "        Parameters: estimator: the type of model (e.g. RandomForestRegressor())\n",
    "                    paramter_grid: dictionary defining the gridsearch parameters\n",
    "                    X_train: 2d numpy array\n",
    "                    y_train: 1d numpy array\n",
    "        Returns:  best parameters and model fit with those parameters\n",
    "    '''\n",
    "    model_gridsearch = GridSearchCV(estimator,\n",
    "                                    parameter_grid,\n",
    "                                    n_jobs=-1,\n",
    "                                    verbose=True,\n",
    "                                    scoring='accuracy')\n",
    "    model_gridsearch.fit(X_train, y_train)\n",
    "    best_params = model_gridsearch.best_params_ \n",
    "    model_best = model_gridsearch.best_estimator_\n",
    "    print(\"\\nResult of gridsearch:\")\n",
    "    print(\"{0:<20s} | {1:<8s} | {2}\".format(\"Parameter\", \"Optimal\", \"Gridsearch values\"))\n",
    "    print(\"-\" * 55)\n",
    "    for param, vals in parameter_grid.items():\n",
    "        print(\"{0:<20s} | {1:<8s} | {2}\".format(str(param), \n",
    "                                                str(best_params[param]),\n",
    "                                                str(vals)))\n",
    "    return best_params, model_best"
   ]
  },
  {
   "cell_type": "code",
   "execution_count": null,
   "metadata": {},
   "outputs": [],
   "source": [
    "rf = RandomForestClassifier()"
   ]
  },
  {
   "cell_type": "code",
   "execution_count": null,
   "metadata": {},
   "outputs": [],
   "source": [
    "random_forest_grid = {'max_depth': [3, None],\n",
    "                      'max_features': ['sqrt', 'log2', None],\n",
    "                      'min_samples_split': [2, 4],\n",
    "                      'min_samples_leaf': [1, 2, 4],\n",
    "                      'bootstrap': [True, False],\n",
    "                      'n_estimators': [10, 20, 40, 80],\n",
    "                      'random_state': [1]}\n",
    "\n",
    "rf_best_params, rf_best_model = gridsearch_with_output(RandomForestClassifier(), \n",
    "                                                       random_forest_grid, \n",
    "                                                       X_nlp_over_train, y_nlp_over_train)"
   ]
  },
  {
   "cell_type": "code",
   "execution_count": null,
   "metadata": {},
   "outputs": [],
   "source": [
    "print(\"\\nComparing model with gridsearch params to initial model on Test set.\")\n",
    "rf.fit(X_nlp_over_train, y_nlp_over_train)\n",
    "display_default_and_gsearch_model_results(rf, rf_best_model, X_nlp_over_test, y_nlp_over_test)"
   ]
  },
  {
   "cell_type": "code",
   "execution_count": null,
   "metadata": {},
   "outputs": [],
   "source": [
    "gdbr = GradientBoostingClassifier()"
   ]
  },
  {
   "cell_type": "code",
   "execution_count": null,
   "metadata": {},
   "outputs": [],
   "source": [
    "gradient_boosting_grid = {'learning_rate': [0.1, 0.05, 0.02, 0.01],\n",
    "                          'max_depth': [2, 4, 6],\n",
    "                          'min_samples_leaf': [1, 2, 5, 10],\n",
    "                          'max_features': [1.0, 0.3, 0.1],\n",
    "                          'n_estimators': [500],\n",
    "                          'random_state': [1]}\n",
    "gdbr_best_params, gdbr_best_model = gridsearch_with_output(GradientBoostingClassifier(), \n",
    "                                                           gradient_boosting_grid, \n",
    "                                                            X_nlp_over_train, y_nlp_over_train)\n",
    "\n",
    "print(\"\\nComparing model with gridsearch params to initial model on Test set.\")\n",
    "gdbr.fit(X_train, y_train)\n",
    "display_default_and_gsearch_model_results(gdbr, gdbr_best_model,  X_nlp_over_test, y_nlp_over_test)\n"
   ]
  },
  {
   "cell_type": "code",
   "execution_count": null,
   "metadata": {},
   "outputs": [],
   "source": []
  }
 ],
 "metadata": {
  "kernelspec": {
   "display_name": "Python 3",
   "language": "python",
   "name": "python3"
  }
 },
 "nbformat": 4,
 "nbformat_minor": 4
}
