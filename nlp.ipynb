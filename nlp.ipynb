{
 "cells": [
  {
   "cell_type": "code",
   "execution_count": 339,
   "metadata": {},
   "outputs": [
    {
     "name": "stderr",
     "output_type": "stream",
     "text": [
      "[nltk_data] Downloading package stopwords to\n",
      "[nltk_data]     /Users/shwetasharma1/nltk_data...\n",
      "[nltk_data]   Package stopwords is already up-to-date!\n",
      "[nltk_data] Downloading package punkt to\n",
      "[nltk_data]     /Users/shwetasharma1/nltk_data...\n",
      "[nltk_data]   Package punkt is already up-to-date!\n"
     ]
    }
   ],
   "source": [
    "import pandas as pd\n",
    "import matplotlib.pyplot as plt\n",
    "import numpy as np\n",
    "plt.style.use(\"ggplot\")\n",
    "from pylab import rcParams\n",
    "import seaborn as sns\n",
    "%matplotlib inline\n",
    "np.random.seed(27)\n",
    "rcParams['figure.figsize'] = 10, 6\n",
    "sns.set(style=\"darkgrid\")\n",
    "from sklearn.model_selection import train_test_split, KFold\n",
    "from imblearn.over_sampling import SMOTE\n",
    "from sklearn.linear_model import LogisticRegression\n",
    "from sklearn.metrics import accuracy_score, precision_score, recall_score, confusion_matrix, f1_score, roc_auc_score, roc_curve\n",
    "from sklearn.ensemble import RandomForestClassifier, GradientBoostingClassifier\n",
    "import pandas as pd\n",
    "import nltk\n",
    "import re\n",
    "import unicodedata\n",
    "from nltk.tokenize import sent_tokenize\n",
    "from nltk.tokenize import word_tokenize\n",
    "from nltk.corpus import stopwords\n",
    "from sklearn.model_selection import RandomizedSearchCV\n",
    "\n",
    "import string\n",
    "nltk.download('stopwords')\n",
    "nltk.download('punkt')\n",
    "stopwords_ = set(stopwords.words('english'))\n",
    "punctuation_ = set(string.punctuation)\n",
    "\n",
    "from nltk.stem.snowball import SnowballStemmer\n",
    "stemmer_snowball = SnowballStemmer('english')\n",
    "\n",
    "from nltk.stem.porter import PorterStemmer\n",
    "stemmer_porter = PorterStemmer()\n",
    "from nltk.stem import WordNetLemmatizer\n",
    "from nltk import pos_tag\n",
    "\n",
    "from sklearn.feature_extraction.text import TfidfVectorizer\n",
    "from sklearn.model_selection import GridSearchCV\n",
    "from sklearn.metrics import make_scorer"
   ]
  },
  {
   "cell_type": "code",
   "execution_count": 340,
   "metadata": {},
   "outputs": [],
   "source": [
    "df = pd.read_csv(\"./users_essay\")"
   ]
  },
  {
   "cell_type": "code",
   "execution_count": 341,
   "metadata": {},
   "outputs": [
    {
     "name": "stderr",
     "output_type": "stream",
     "text": [
      "/Users/shwetasharma1/opt/anaconda3/lib/python3.7/site-packages/ipykernel_launcher.py:5: SettingWithCopyWarning: \n",
      "A value is trying to be set on a copy of a slice from a DataFrame.\n",
      "Try using .loc[row_indexer,col_indexer] = value instead\n",
      "\n",
      "See the caveats in the documentation: https://pandas.pydata.org/pandas-docs/stable/user_guide/indexing.html#returning-a-view-versus-a-copy\n",
      "  \"\"\"\n"
     ]
    }
   ],
   "source": [
    "# rf_data = df[[\"age\", \"drinks\", \"education\", \"ethnicity\", \"orientation\", \"sex\", \"smokes\", \"religion\", \"drugs\", \"essay\"]]\n",
    "rf_data = df[[\"age\", \"essay\", \"drinks\",\"smokes\", \"sex\", \"drugs\"]]\n",
    "# rf_data = df[[\"age\", \"essay\",\"sex\", \"drinks\",\"smokes\",\"drugs\", \"ethnicity\"]]\n",
    "\n",
    "rf_data[\"drugs\"] = rf_data[\"drugs\"].replace([\"never\",\"sometimes\", \"often\"], [0,1,1])"
   ]
  },
  {
   "cell_type": "markdown",
   "metadata": {},
   "source": [
    "## PreProcessing for NLP"
   ]
  },
  {
   "cell_type": "code",
   "execution_count": 342,
   "metadata": {},
   "outputs": [],
   "source": [
    "def make_buckets(rf_data):\n",
    "    \n",
    "    # putting different ethnicities in wider buckets\n",
    "    \n",
    "    rf_data[\"ethnicity\"] = rf_data[\"ethnicity\"].fillna(\"other\")\n",
    "    rf_data.loc[rf_data['ethnicity'].str.contains('asian',), 'ethnicity'] = 'asian'\n",
    "    rf_data.loc[rf_data['ethnicity'].str.contains('indian'), 'ethnicity'] = 'asian'\n",
    "    rf_data.loc[rf_data[\"ethnicity\"].str.contains('hispanic / latin'), 'ethnicity'] = 'hispanic/latin'\n",
    "    rf_data.loc[rf_data[\"ethnicity\"].str.contains('american'), 'ethnicity'] = 'american'\n",
    "    rf_data.loc[rf_data[\"ethnicity\"].str.contains('native american'), 'ethnicity'] = 'american'\n",
    "    rf_data.loc[rf_data['ethnicity'].str.contains('black'), 'ethnicity'] = 'american'\n",
    "    rf_data.loc[rf_data[\"ethnicity\"].str.contains('pacific islander'), 'ethnicity'] = 'pacific islander'\n",
    "    rf_data.loc[rf_data[\"ethnicity\"].str.contains('white'), 'ethnicity'] = 'american'\n",
    "    rf_data.loc[rf_data[\"ethnicity\"].str.contains('middle eastern,'), 'ethnicity'] = 'middle eastern'\n",
    "    \n",
    "   # putting different religions in wider buckets\n",
    "\n",
    "    rf_data[\"religion\"] = rf_data[\"religion\"].fillna(\"other\")\n",
    "    rf_data.loc[rf_data['religion'].str.contains('agnosticism'), 'religion'] = 'agnosticism'\n",
    "    rf_data.loc[rf_data['religion'].str.contains('atheism'), 'religion'] = 'atheism'\n",
    "    rf_data.loc[rf_data['religion'].str.contains('catholicism'), 'religion'] = 'catholicism'\n",
    "    rf_data.loc[rf_data['religion'].str.contains('buddhism'), 'religion'] = 'buddhism'\n",
    "    rf_data.loc[rf_data['religion'].str.contains('other'), 'religion'] = 'other'\n",
    "    rf_data.loc[rf_data['religion'].str.contains('hinduism'), 'religion'] = 'hinduism'\n",
    "    rf_data.loc[rf_data['religion'].str.contains('islam'), 'religion'] = 'islam'\n",
    "    rf_data.loc[rf_data['religion'].str.contains('judaism'), 'religion'] = 'judaism'\n",
    "    rf_data.loc[rf_data['religion'].str.contains('christianity'), 'religion'] = 'christianity'\n",
    "    \n",
    "    # putting different education classes in wider buckets\n",
    "\n",
    "\n",
    "    rf_data[\"education\"] = rf_data[\"education\"].fillna('in college/university')\n",
    "    rf_data.loc[rf_data['education'].str.contains(\"graduated\"), 'education'] = 'graduated'\n",
    "    rf_data.loc[rf_data['education'].str.contains(\"working\"), 'education'] = 'in college/university'\n",
    "    rf_data.loc[rf_data['education'].str.contains(\"two-year college\"), 'education'] = 'in college/university'\n",
    "    rf_data.loc[rf_data['education'].str.contains(\"masters program\"), 'education'] = 'in college/university'\n",
    "    rf_data.loc[rf_data['education'].str.contains(\"law school\"), 'education'] = 'in college/university'\n",
    "    rf_data.loc[rf_data['education'].str.contains(\"space camp\"), 'education'] = 'in college/university'\n",
    "    rf_data.loc[rf_data['education'].str.contains(\"ph.d program\"), 'education'] = 'in college/university'\n",
    "    rf_data.loc[rf_data['education'].str.contains(\"med school\"), 'education'] = 'in college/university'\n",
    "    rf_data.loc[rf_data['education'].str.contains(\"college/university\"), 'education'] = 'in college/university'\n",
    "    rf_data.loc[rf_data['education'].str.contains(\"dropped out\"), 'education'] = 'dropped out'\n",
    "    \n",
    "    #treating nans\n",
    "    rf_data[\"drinks\"] = rf_data[\"drinks\"].fillna(\"not at all\")\n",
    "    rf_data[\"smokes\"] = rf_data[\"smokes\"].fillna(\"no\")"
   ]
  },
  {
   "cell_type": "code",
   "execution_count": 249,
   "metadata": {
    "collapsed": true
   },
   "outputs": [
    {
     "name": "stderr",
     "output_type": "stream",
     "text": [
      "/Users/shwetasharma1/opt/anaconda3/lib/python3.7/site-packages/ipykernel_launcher.py:5: SettingWithCopyWarning: \n",
      "A value is trying to be set on a copy of a slice from a DataFrame.\n",
      "Try using .loc[row_indexer,col_indexer] = value instead\n",
      "\n",
      "See the caveats in the documentation: https://pandas.pydata.org/pandas-docs/stable/user_guide/indexing.html#returning-a-view-versus-a-copy\n",
      "  \"\"\"\n",
      "/Users/shwetasharma1/opt/anaconda3/lib/python3.7/site-packages/pandas/core/indexing.py:965: SettingWithCopyWarning: \n",
      "A value is trying to be set on a copy of a slice from a DataFrame.\n",
      "Try using .loc[row_indexer,col_indexer] = value instead\n",
      "\n",
      "See the caveats in the documentation: https://pandas.pydata.org/pandas-docs/stable/user_guide/indexing.html#returning-a-view-versus-a-copy\n",
      "  self.obj[item] = s\n",
      "/Users/shwetasharma1/opt/anaconda3/lib/python3.7/site-packages/ipykernel_launcher.py:18: SettingWithCopyWarning: \n",
      "A value is trying to be set on a copy of a slice from a DataFrame.\n",
      "Try using .loc[row_indexer,col_indexer] = value instead\n",
      "\n",
      "See the caveats in the documentation: https://pandas.pydata.org/pandas-docs/stable/user_guide/indexing.html#returning-a-view-versus-a-copy\n",
      "/Users/shwetasharma1/opt/anaconda3/lib/python3.7/site-packages/ipykernel_launcher.py:32: SettingWithCopyWarning: \n",
      "A value is trying to be set on a copy of a slice from a DataFrame.\n",
      "Try using .loc[row_indexer,col_indexer] = value instead\n",
      "\n",
      "See the caveats in the documentation: https://pandas.pydata.org/pandas-docs/stable/user_guide/indexing.html#returning-a-view-versus-a-copy\n",
      "/Users/shwetasharma1/opt/anaconda3/lib/python3.7/site-packages/ipykernel_launcher.py:45: SettingWithCopyWarning: \n",
      "A value is trying to be set on a copy of a slice from a DataFrame.\n",
      "Try using .loc[row_indexer,col_indexer] = value instead\n",
      "\n",
      "See the caveats in the documentation: https://pandas.pydata.org/pandas-docs/stable/user_guide/indexing.html#returning-a-view-versus-a-copy\n",
      "/Users/shwetasharma1/opt/anaconda3/lib/python3.7/site-packages/ipykernel_launcher.py:46: SettingWithCopyWarning: \n",
      "A value is trying to be set on a copy of a slice from a DataFrame.\n",
      "Try using .loc[row_indexer,col_indexer] = value instead\n",
      "\n",
      "See the caveats in the documentation: https://pandas.pydata.org/pandas-docs/stable/user_guide/indexing.html#returning-a-view-versus-a-copy\n"
     ]
    }
   ],
   "source": [
    "make_buckets(rf_data)"
   ]
  },
  {
   "cell_type": "code",
   "execution_count": 343,
   "metadata": {},
   "outputs": [],
   "source": [
    "# cleaned_rf_data = rf_data[[\"age\", \"drinks\", \"education\", \"ethnicity\", \"orientation\", \"sex\", \"smokes\", \"religion\", \"drugs\"]]\n",
    "\n",
    "cleaned_rf_data = rf_data[[\"age\", \"drinks\", \"sex\", \"smokes\", \"drugs\"]]\n",
    "\n",
    "# cleaned_rf_data = rf_data[[\"age\", \"sex\", \"drinks\",\"smokes\",\"drugs\", \"ethnicity\"]]\n",
    "cleaned_rf_data_dummified = pd.get_dummies(cleaned_rf_data)"
   ]
  },
  {
   "cell_type": "code",
   "execution_count": 344,
   "metadata": {},
   "outputs": [],
   "source": [
    "cleaned_rf_data_dummified = pd.concat([cleaned_rf_data_dummified, rf_data[\"essay\"]], axis = 1)"
   ]
  },
  {
   "cell_type": "code",
   "execution_count": 345,
   "metadata": {},
   "outputs": [],
   "source": [
    "X_nlp = cleaned_rf_data_dummified.loc[:,cleaned_rf_data_dummified.columns != \"drugs\"]\n",
    "\n",
    "\n",
    "y_nlp = cleaned_rf_data_dummified.loc[:,cleaned_rf_data_dummified.columns == \"drugs\"]"
   ]
  },
  {
   "cell_type": "code",
   "execution_count": 346,
   "metadata": {},
   "outputs": [],
   "source": [
    "X_nlp_train, X_nlp_test, y_nlp_train, y_nlp_test = train_test_split(X_nlp, y_nlp, test_size = .20, stratify = y_nlp, random_state=1)"
   ]
  },
  {
   "cell_type": "markdown",
   "metadata": {},
   "source": [
    "## TFIDF vectorization"
   ]
  },
  {
   "cell_type": "code",
   "execution_count": 347,
   "metadata": {},
   "outputs": [],
   "source": [
    "tfidf = TfidfVectorizer(max_features = 1000)"
   ]
  },
  {
   "cell_type": "code",
   "execution_count": 348,
   "metadata": {},
   "outputs": [],
   "source": [
    "tfidf_matrix_train = tfidf.fit_transform(X_nlp_train.essay.values.astype('U'))"
   ]
  },
  {
   "cell_type": "code",
   "execution_count": 349,
   "metadata": {},
   "outputs": [],
   "source": [
    "tfidf_matrix_test =  tfidf.transform(X_nlp_test.essay.values.astype('U'))"
   ]
  },
  {
   "cell_type": "code",
   "execution_count": 350,
   "metadata": {},
   "outputs": [],
   "source": [
    "data_train = pd.DataFrame(tfidf_matrix_train.toarray(), columns=tfidf.get_feature_names())\n",
    "data_test = pd.DataFrame(tfidf_matrix_test.toarray(), columns=tfidf.get_feature_names())"
   ]
  },
  {
   "cell_type": "code",
   "execution_count": 351,
   "metadata": {},
   "outputs": [],
   "source": [
    "data_train.reset_index(drop=True, inplace=True)\n",
    "X_nlp_train.reset_index(drop=True, inplace=True)\n",
    "df_nlp_train = pd.concat([data_train, X_nlp_train], axis=1)\n",
    "\n",
    "data_test.reset_index(drop=True, inplace=True)\n",
    "X_nlp_test.reset_index(drop=True, inplace=True)\n",
    "df_nlp_test = pd.concat([data_test, X_nlp_test], axis=1)"
   ]
  },
  {
   "cell_type": "code",
   "execution_count": 352,
   "metadata": {},
   "outputs": [],
   "source": [
    "df_nlp_test = df_nlp_test.drop(\"essay\", axis=1)\n",
    "df_nlp_train = df_nlp_train.drop(\"essay\", axis=1);"
   ]
  },
  {
   "cell_type": "code",
   "execution_count": 353,
   "metadata": {},
   "outputs": [],
   "source": [
    "df_nlp_train.reset_index(drop=True, inplace=True)\n",
    "y_nlp_train.reset_index(drop=True, inplace=True)\n",
    "new_train = pd.concat([df_nlp_train, y_nlp_train], axis = 1)\n",
    "\n",
    "\n",
    "df_nlp_test.reset_index(drop=True, inplace=True)\n",
    "y_nlp_test.reset_index(drop=True, inplace=True)\n",
    "new_test = pd.concat([df_nlp_test, y_nlp_test], axis = 1)"
   ]
  },
  {
   "cell_type": "code",
   "execution_count": 354,
   "metadata": {},
   "outputs": [],
   "source": [
    "untouched_x = new_test.loc[:, new_test.columns != \"drugs\"]\n",
    "untouched_y = new_test.loc[:, new_test.columns == \"drugs\"]"
   ]
  },
  {
   "cell_type": "markdown",
   "metadata": {},
   "source": [
    "## OVERSAMPLING"
   ]
  },
  {
   "cell_type": "code",
   "execution_count": 355,
   "metadata": {},
   "outputs": [],
   "source": [
    "# Class count\n",
    "count_class_0, count_class_1 = new_train[\"drugs\"].value_counts()\n",
    "\n",
    "rf_class_0 = new_train[new_train['drugs'] == 0]\n",
    "rf_class_1 = new_train[new_train['drugs'] == 1]"
   ]
  },
  {
   "cell_type": "code",
   "execution_count": 356,
   "metadata": {},
   "outputs": [
    {
     "name": "stdout",
     "output_type": "stream",
     "text": [
      "Random over-sampling:\n",
      "1    30179\n",
      "0    30179\n",
      "Name: drugs, dtype: int64\n"
     ]
    },
    {
     "data": {
      "image/png": "[encoded data removed]",
      "text/plain": [
       "<Figure size 720x432 with 1 Axes>"
      ]
     },
     "metadata": {},
     "output_type": "display_data"
    }
   ],
   "source": [
    "rf_class_1_over = rf_class_1.sample(count_class_0, replace=True)\n",
    "rf_test_over = pd.concat([rf_class_0, rf_class_1_over], axis=0)\n",
    "\n",
    "print('Random over-sampling:')\n",
    "print(rf_test_over[\"drugs\"].value_counts())\n",
    "\n",
    "rf_test_over[\"drugs\"].value_counts().plot(kind='bar', title='Count (target)');"
   ]
  },
  {
   "cell_type": "code",
   "execution_count": 357,
   "metadata": {},
   "outputs": [],
   "source": [
    "X_nlp_over = rf_test_over.loc[:, rf_test_over.columns != \"drugs\"]\n",
    "y_nlp_over = rf_test_over.loc[:, rf_test_over.columns ==\"drugs\"]\n",
    "X_nlp_over_train, X_nlp_over_test, y_nlp_over_train, y_nlp_over_test = train_test_split(X_nlp_over, y_nlp_over, test_size=0.20, random_state=1)"
   ]
  },
  {
   "cell_type": "code",
   "execution_count": 358,
   "metadata": {},
   "outputs": [],
   "source": [
    "def run_model(estimator, X, y):\n",
    "    kf = KFold(n_splits=5, shuffle=True)\n",
    "    \n",
    "    acc = []\n",
    "    f1 = []\n",
    "    for train_idx, test_idx in kf.split(X):\n",
    "        X_train = X[train_idx]\n",
    "        y_train = y[train_idx]\n",
    "         \n",
    "        \n",
    "        X_test = X[test_idx]\n",
    "        y_test = y[test_idx]\n",
    "\n",
    "        # data prep\n",
    "        \n",
    "        estimator.fit(X_train, y_train)\n",
    "        y_preds = estimator.predict(X_test)\n",
    "        acc.append(accuracy_score(y_test, y_preds))\n",
    "        f1.append(f1_score(y_test, y_preds))\n",
    "    \n",
    "    generate_model_report(y_test, y_preds)\n",
    "        \n",
    "    plt.plot(range(0, 5), f1, label=estimator.__class__.__name__)\n",
    "    \n",
    "def generate_model_report(y_actual, y_predicted):\n",
    "    print('Accuracy: %.3f' % accuracy_score(y_actual, y_predicted))\n",
    "    print('Precision: %.3f' % precision_score(y_actual, y_predicted))\n",
    "    print( 'Recall: %.3f' % recall_score(y_actual, y_predicted))\n",
    "    print('F1 score: %.3f' % f1_score(y_actual, y_predicted))"
   ]
  },
  {
   "cell_type": "markdown",
   "metadata": {},
   "source": [
    "## SMOTE"
   ]
  },
  {
   "cell_type": "code",
   "execution_count": 38,
   "metadata": {},
   "outputs": [],
   "source": [
    "sm = SMOTE(random_state=12, sampling_strategy=1.0)\n",
    "X_train_res, y_train_res = sm.fit_sample(df_nlp_train.values, y_nlp_train[\"drugs\"].values)"
   ]
  },
  {
   "cell_type": "code",
   "execution_count": 39,
   "metadata": {},
   "outputs": [
    {
     "data": {
      "text/plain": [
       "GradientBoostingClassifier()"
      ]
     },
     "execution_count": 39,
     "metadata": {},
     "output_type": "execute_result"
    }
   ],
   "source": [
    "gb = GradientBoostingClassifier()\n",
    "gb.fit(X_train_res, y_train_res)"
   ]
  },
  {
   "cell_type": "code",
   "execution_count": 40,
   "metadata": {},
   "outputs": [],
   "source": [
    "Y_smot_preds = gb.predict(untouched_x)"
   ]
  },
  {
   "cell_type": "code",
   "execution_count": 41,
   "metadata": {},
   "outputs": [
    {
     "name": "stdout",
     "output_type": "stream",
     "text": [
      "Accuracy: 0.820\n",
      "Precision: 0.476\n",
      "Recall: 0.502\n",
      "F1 score: 0.489\n"
     ]
    }
   ],
   "source": [
    "generate_model_report(untouched_y, Y_smot_preds )"
   ]
  },
  {
   "cell_type": "markdown",
   "metadata": {},
   "source": [
    "## Logistic Regression (Round 2)"
   ]
  },
  {
   "cell_type": "code",
   "execution_count": 293,
   "metadata": {},
   "outputs": [],
   "source": [
    "lr = LogisticRegression(max_iter=1200).fit(X_nlp_over_train.values, y_nlp_over_train[\"drugs\"].values)\n",
    "y_nlp_over_preds = lr.predict(X_nlp_over_test)"
   ]
  },
  {
   "cell_type": "code",
   "execution_count": 294,
   "metadata": {},
   "outputs": [
    {
     "name": "stdout",
     "output_type": "stream",
     "text": [
      "Accuracy: 0.800\n",
      "Precision: 0.799\n",
      "Recall: 0.799\n",
      "F1 score: 0.799\n"
     ]
    }
   ],
   "source": [
    "generate_model_report(y_nlp_over_test, y_nlp_over_preds)"
   ]
  },
  {
   "cell_type": "code",
   "execution_count": 295,
   "metadata": {},
   "outputs": [
    {
     "name": "stdout",
     "output_type": "stream",
     "text": [
      "Accuracy: 0.785\n",
      "Precision: 0.438\n",
      "Recall: 0.744\n",
      "F1 score: 0.551\n"
     ]
    }
   ],
   "source": [
    "y_nlp_final_preds = lr.predict(untouched_x)\n",
    "generate_model_report(untouched_y, y_nlp_final_preds)"
   ]
  },
  {
   "cell_type": "markdown",
   "metadata": {},
   "source": [
    "## Random Forest Classifier (Round 2)"
   ]
  },
  {
   "cell_type": "code",
   "execution_count": 238,
   "metadata": {},
   "outputs": [
    {
     "data": {
      "text/plain": [
       "RandomForestClassifier(max_depth=1, max_features=160, min_samples_leaf=2,\n",
       "                       n_estimators=400)"
      ]
     },
     "execution_count": 238,
     "metadata": {},
     "output_type": "execute_result"
    }
   ],
   "source": [
    "model = RandomForestClassifier(n_estimators = 400, max_features = 160, max_depth = 1, min_samples_leaf = 2)\n",
    "model.fit(X_nlp_over_train.values, y_nlp_over_train[\"drugs\"].values)\n"
   ]
  },
  {
   "cell_type": "code",
   "execution_count": 239,
   "metadata": {},
   "outputs": [],
   "source": [
    "y_nlp_over_preds = model.predict(X_nlp_over_test)"
   ]
  },
  {
   "cell_type": "code",
   "execution_count": 240,
   "metadata": {},
   "outputs": [
    {
     "name": "stdout",
     "output_type": "stream",
     "text": [
      "Accuracy: 0.698\n",
      "Precision: 0.775\n",
      "Recall: 0.552\n",
      "F1 score: 0.645\n"
     ]
    }
   ],
   "source": [
    "generate_model_report(y_nlp_over_test, y_nlp_over_preds)"
   ]
  },
  {
   "cell_type": "code",
   "execution_count": 241,
   "metadata": {},
   "outputs": [
    {
     "name": "stdout",
     "output_type": "stream",
     "text": [
      "Accuracy: 0.790\n",
      "Precision: 0.430\n",
      "Recall: 0.559\n",
      "F1 score: 0.486\n"
     ]
    }
   ],
   "source": [
    "y_nlp_final_preds = model.predict(untouched_x)\n",
    "generate_model_report(untouched_y, y_nlp_final_preds)"
   ]
  },
  {
   "cell_type": "markdown",
   "metadata": {},
   "source": [
    "## Gradient Boosting Classifier (Round 3)"
   ]
  },
  {
   "cell_type": "code",
   "execution_count": 359,
   "metadata": {},
   "outputs": [
    {
     "data": {
      "text/plain": [
       "GradientBoostingClassifier(max_depth=2, max_features=170, n_estimators=400)"
      ]
     },
     "execution_count": 359,
     "metadata": {},
     "output_type": "execute_result"
    }
   ],
   "source": [
    "gb = GradientBoostingClassifier(max_depth =   2, learning_rate= 0.1, min_samples_leaf=1, min_samples_split=2, n_estimators = 400, max_features = 170)\n",
    "\n",
    "gb.fit(X_nlp_over_train.values, y_nlp_over_train[\"drugs\"].values)"
   ]
  },
  {
   "cell_type": "code",
   "execution_count": 360,
   "metadata": {},
   "outputs": [],
   "source": [
    "y_nlp_over_preds = gb.predict(X_nlp_over_test)"
   ]
  },
  {
   "cell_type": "code",
   "execution_count": 361,
   "metadata": {},
   "outputs": [
    {
     "name": "stdout",
     "output_type": "stream",
     "text": [
      "Accuracy: 0.773\n",
      "Precision: 0.777\n",
      "Recall: 0.762\n",
      "F1 score: 0.769\n"
     ]
    }
   ],
   "source": [
    "generate_model_report(y_nlp_over_test, y_nlp_over_preds)"
   ]
  },
  {
   "cell_type": "code",
   "execution_count": 362,
   "metadata": {},
   "outputs": [
    {
     "name": "stdout",
     "output_type": "stream",
     "text": [
      "Accuracy: 0.770\n",
      "Precision: 0.415\n",
      "Recall: 0.715\n",
      "F1 score: 0.525\n"
     ]
    }
   ],
   "source": [
    "y_nlp_final_preds = gb.predict(untouched_x)\n",
    "generate_model_report(untouched_y, y_nlp_final_preds)"
   ]
  },
  {
   "cell_type": "markdown",
   "metadata": {},
   "source": [
    "## Testing on untouched data "
   ]
  },
  {
   "cell_type": "code",
   "execution_count": 307,
   "metadata": {},
   "outputs": [],
   "source": [
    "users_test = pd.read_csv(\"./users_test\")"
   ]
  },
  {
   "cell_type": "code",
   "execution_count": 305,
   "metadata": {
    "collapsed": true
   },
   "outputs": [
    {
     "ename": "ValueError",
     "evalue": "Item wrong length 31 instead of 14080.",
     "output_type": "error",
     "traceback": [
      "\u001b[0;31m---------------------------------------------------------------------------\u001b[0m",
      "\u001b[0;31mValueError\u001b[0m                                Traceback (most recent call last)",
      "\u001b[0;32m<ipython-input-305-935568cfd6c8>\u001b[0m in \u001b[0;36m<module>\u001b[0;34m\u001b[0m\n\u001b[0;32m----> 1\u001b[0;31m \u001b[0musers_test\u001b[0m\u001b[0;34m[\u001b[0m\u001b[0musers_test\u001b[0m\u001b[0;34m.\u001b[0m\u001b[0mcolumns\u001b[0m \u001b[0;34m!=\u001b[0m \u001b[0;34m\"drugs\"\u001b[0m\u001b[0;34m]\u001b[0m\u001b[0;34m\u001b[0m\u001b[0;34m\u001b[0m\u001b[0m\n\u001b[0m",
      "\u001b[0;32m~/opt/anaconda3/lib/python3.7/site-packages/pandas/core/frame.py\u001b[0m in \u001b[0;36m__getitem__\u001b[0;34m(self, key)\u001b[0m\n\u001b[1;32m   2789\u001b[0m         \u001b[0;31m# Do we have a (boolean) 1d indexer?\u001b[0m\u001b[0;34m\u001b[0m\u001b[0;34m\u001b[0m\u001b[0;34m\u001b[0m\u001b[0m\n\u001b[1;32m   2790\u001b[0m         \u001b[0;32mif\u001b[0m \u001b[0mcom\u001b[0m\u001b[0;34m.\u001b[0m\u001b[0mis_bool_indexer\u001b[0m\u001b[0;34m(\u001b[0m\u001b[0mkey\u001b[0m\u001b[0;34m)\u001b[0m\u001b[0;34m:\u001b[0m\u001b[0;34m\u001b[0m\u001b[0;34m\u001b[0m\u001b[0m\n\u001b[0;32m-> 2791\u001b[0;31m             \u001b[0;32mreturn\u001b[0m \u001b[0mself\u001b[0m\u001b[0;34m.\u001b[0m\u001b[0m_getitem_bool_array\u001b[0m\u001b[0;34m(\u001b[0m\u001b[0mkey\u001b[0m\u001b[0;34m)\u001b[0m\u001b[0;34m\u001b[0m\u001b[0;34m\u001b[0m\u001b[0m\n\u001b[0m\u001b[1;32m   2792\u001b[0m \u001b[0;34m\u001b[0m\u001b[0m\n\u001b[1;32m   2793\u001b[0m         \u001b[0;31m# We are left with two options: a single key, and a collection of keys,\u001b[0m\u001b[0;34m\u001b[0m\u001b[0;34m\u001b[0m\u001b[0;34m\u001b[0m\u001b[0m\n",
      "\u001b[0;32m~/opt/anaconda3/lib/python3.7/site-packages/pandas/core/frame.py\u001b[0m in \u001b[0;36m_getitem_bool_array\u001b[0;34m(self, key)\u001b[0m\n\u001b[1;32m   2836\u001b[0m         \u001b[0;32melif\u001b[0m \u001b[0mlen\u001b[0m\u001b[0;34m(\u001b[0m\u001b[0mkey\u001b[0m\u001b[0;34m)\u001b[0m \u001b[0;34m!=\u001b[0m \u001b[0mlen\u001b[0m\u001b[0;34m(\u001b[0m\u001b[0mself\u001b[0m\u001b[0;34m.\u001b[0m\u001b[0mindex\u001b[0m\u001b[0;34m)\u001b[0m\u001b[0;34m:\u001b[0m\u001b[0;34m\u001b[0m\u001b[0;34m\u001b[0m\u001b[0m\n\u001b[1;32m   2837\u001b[0m             raise ValueError(\n\u001b[0;32m-> 2838\u001b[0;31m                 \u001b[0;34mf\"Item wrong length {len(key)} instead of {len(self.index)}.\"\u001b[0m\u001b[0;34m\u001b[0m\u001b[0;34m\u001b[0m\u001b[0m\n\u001b[0m\u001b[1;32m   2839\u001b[0m             )\n\u001b[1;32m   2840\u001b[0m \u001b[0;34m\u001b[0m\u001b[0m\n",
      "\u001b[0;31mValueError\u001b[0m: Item wrong length 31 instead of 14080."
     ]
    }
   ],
   "source": [
    "users_test[users_test.columns != \"drugs\"]"
   ]
  },
  {
   "cell_type": "code",
   "execution_count": 309,
   "metadata": {},
   "outputs": [],
   "source": [
    "users_test = users_test.drop(\"Unnamed: 0\", axis = 1)"
   ]
  },
  {
   "cell_type": "code",
   "execution_count": 314,
   "metadata": {},
   "outputs": [],
   "source": [
    "rf_test = users_test[[\"age\", \"essay\",\"sex\", \"drinks\",\"smokes\",\"drugs\", \"ethnicity\"]]"
   ]
  },
  {
   "cell_type": "code",
   "execution_count": 317,
   "metadata": {},
   "outputs": [],
   "source": [
    "cleaned_rf_test = rf_test[[\"age\", \"drinks\", \"sex\", \"smokes\", \"drugs\"]]"
   ]
  },
  {
   "cell_type": "code",
   "execution_count": 318,
   "metadata": {},
   "outputs": [],
   "source": [
    "cleaned_rf_test_dummified = pd.get_dummies(cleaned_rf_test)"
   ]
  },
  {
   "cell_type": "code",
   "execution_count": 319,
   "metadata": {},
   "outputs": [],
   "source": [
    "cleaned_rf_test_dummified = pd.concat([cleaned_rf_test_dummified, rf_test[\"essay\"]], axis = 1)"
   ]
  },
  {
   "cell_type": "code",
   "execution_count": 327,
   "metadata": {},
   "outputs": [],
   "source": [
    "X_rf = cleaned_rf_test_dummified.loc[:,cleaned_rf_test_dummified.columns != \"drugs\"]\n",
    "\n",
    "\n",
    "y_rf = cleaned_rf_test_dummified.loc[:,cleaned_rf_test_dummified.columns == \"drugs\"]"
   ]
  },
  {
   "cell_type": "code",
   "execution_count": 366,
   "metadata": {},
   "outputs": [],
   "source": [
    "tfidf = TfidfVectorizer(max_features = 1000)"
   ]
  },
  {
   "cell_type": "code",
   "execution_count": 367,
   "metadata": {
    "collapsed": true
   },
   "outputs": [
    {
     "ename": "NotFittedError",
     "evalue": "The TF-IDF vectorizer is not fitted",
     "output_type": "error",
     "traceback": [
      "\u001b[0;31m---------------------------------------------------------------------------\u001b[0m",
      "\u001b[0;31mNotFittedError\u001b[0m                            Traceback (most recent call last)",
      "\u001b[0;32m<ipython-input-367-ce8bf09baad7>\u001b[0m in \u001b[0;36m<module>\u001b[0;34m\u001b[0m\n\u001b[0;32m----> 1\u001b[0;31m \u001b[0mtfidf_matrix_test\u001b[0m \u001b[0;34m=\u001b[0m \u001b[0mtfidf\u001b[0m\u001b[0;34m.\u001b[0m\u001b[0mtransform\u001b[0m\u001b[0;34m(\u001b[0m\u001b[0mX_rf\u001b[0m\u001b[0;34m.\u001b[0m\u001b[0messay\u001b[0m\u001b[0;34m.\u001b[0m\u001b[0mvalues\u001b[0m\u001b[0;34m.\u001b[0m\u001b[0mastype\u001b[0m\u001b[0;34m(\u001b[0m\u001b[0;34m'U'\u001b[0m\u001b[0;34m)\u001b[0m\u001b[0;34m)\u001b[0m\u001b[0;34m\u001b[0m\u001b[0;34m\u001b[0m\u001b[0m\n\u001b[0m\u001b[1;32m      2\u001b[0m \u001b[0;34m\u001b[0m\u001b[0m\n",
      "\u001b[0;32m~/opt/anaconda3/lib/python3.7/site-packages/sklearn/feature_extraction/text.py\u001b[0m in \u001b[0;36mtransform\u001b[0;34m(self, raw_documents, copy)\u001b[0m\n\u001b[1;32m   1870\u001b[0m             \u001b[0mTf\u001b[0m\u001b[0;34m-\u001b[0m\u001b[0midf\u001b[0m\u001b[0;34m-\u001b[0m\u001b[0mweighted\u001b[0m \u001b[0mdocument\u001b[0m\u001b[0;34m-\u001b[0m\u001b[0mterm\u001b[0m \u001b[0mmatrix\u001b[0m\u001b[0;34m.\u001b[0m\u001b[0;34m\u001b[0m\u001b[0;34m\u001b[0m\u001b[0m\n\u001b[1;32m   1871\u001b[0m         \"\"\"\n\u001b[0;32m-> 1872\u001b[0;31m         \u001b[0mcheck_is_fitted\u001b[0m\u001b[0;34m(\u001b[0m\u001b[0mself\u001b[0m\u001b[0;34m,\u001b[0m \u001b[0mmsg\u001b[0m\u001b[0;34m=\u001b[0m\u001b[0;34m'The TF-IDF vectorizer is not fitted'\u001b[0m\u001b[0;34m)\u001b[0m\u001b[0;34m\u001b[0m\u001b[0;34m\u001b[0m\u001b[0m\n\u001b[0m\u001b[1;32m   1873\u001b[0m \u001b[0;34m\u001b[0m\u001b[0m\n\u001b[1;32m   1874\u001b[0m         \u001b[0;31m# FIXME Remove copy parameter support in 0.24\u001b[0m\u001b[0;34m\u001b[0m\u001b[0;34m\u001b[0m\u001b[0;34m\u001b[0m\u001b[0m\n",
      "\u001b[0;32m~/opt/anaconda3/lib/python3.7/site-packages/sklearn/utils/validation.py\u001b[0m in \u001b[0;36minner_f\u001b[0;34m(*args, **kwargs)\u001b[0m\n\u001b[1;32m     70\u001b[0m                           FutureWarning)\n\u001b[1;32m     71\u001b[0m         \u001b[0mkwargs\u001b[0m\u001b[0;34m.\u001b[0m\u001b[0mupdate\u001b[0m\u001b[0;34m(\u001b[0m\u001b[0;34m{\u001b[0m\u001b[0mk\u001b[0m\u001b[0;34m:\u001b[0m \u001b[0marg\u001b[0m \u001b[0;32mfor\u001b[0m \u001b[0mk\u001b[0m\u001b[0;34m,\u001b[0m \u001b[0marg\u001b[0m \u001b[0;32min\u001b[0m \u001b[0mzip\u001b[0m\u001b[0;34m(\u001b[0m\u001b[0msig\u001b[0m\u001b[0;34m.\u001b[0m\u001b[0mparameters\u001b[0m\u001b[0;34m,\u001b[0m \u001b[0margs\u001b[0m\u001b[0;34m)\u001b[0m\u001b[0;34m}\u001b[0m\u001b[0;34m)\u001b[0m\u001b[0;34m\u001b[0m\u001b[0;34m\u001b[0m\u001b[0m\n\u001b[0;32m---> 72\u001b[0;31m         \u001b[0;32mreturn\u001b[0m \u001b[0mf\u001b[0m\u001b[0;34m(\u001b[0m\u001b[0;34m**\u001b[0m\u001b[0mkwargs\u001b[0m\u001b[0;34m)\u001b[0m\u001b[0;34m\u001b[0m\u001b[0;34m\u001b[0m\u001b[0m\n\u001b[0m\u001b[1;32m     73\u001b[0m     \u001b[0;32mreturn\u001b[0m \u001b[0minner_f\u001b[0m\u001b[0;34m\u001b[0m\u001b[0;34m\u001b[0m\u001b[0m\n\u001b[1;32m     74\u001b[0m \u001b[0;34m\u001b[0m\u001b[0m\n",
      "\u001b[0;32m~/opt/anaconda3/lib/python3.7/site-packages/sklearn/utils/validation.py\u001b[0m in \u001b[0;36mcheck_is_fitted\u001b[0;34m(estimator, attributes, msg, all_or_any)\u001b[0m\n\u001b[1;32m   1017\u001b[0m \u001b[0;34m\u001b[0m\u001b[0m\n\u001b[1;32m   1018\u001b[0m     \u001b[0;32mif\u001b[0m \u001b[0;32mnot\u001b[0m \u001b[0mattrs\u001b[0m\u001b[0;34m:\u001b[0m\u001b[0;34m\u001b[0m\u001b[0;34m\u001b[0m\u001b[0m\n\u001b[0;32m-> 1019\u001b[0;31m         \u001b[0;32mraise\u001b[0m \u001b[0mNotFittedError\u001b[0m\u001b[0;34m(\u001b[0m\u001b[0mmsg\u001b[0m \u001b[0;34m%\u001b[0m \u001b[0;34m{\u001b[0m\u001b[0;34m'name'\u001b[0m\u001b[0;34m:\u001b[0m \u001b[0mtype\u001b[0m\u001b[0;34m(\u001b[0m\u001b[0mestimator\u001b[0m\u001b[0;34m)\u001b[0m\u001b[0;34m.\u001b[0m\u001b[0m__name__\u001b[0m\u001b[0;34m}\u001b[0m\u001b[0;34m)\u001b[0m\u001b[0;34m\u001b[0m\u001b[0;34m\u001b[0m\u001b[0m\n\u001b[0m\u001b[1;32m   1020\u001b[0m \u001b[0;34m\u001b[0m\u001b[0m\n\u001b[1;32m   1021\u001b[0m \u001b[0;34m\u001b[0m\u001b[0m\n",
      "\u001b[0;31mNotFittedError\u001b[0m: The TF-IDF vectorizer is not fitted"
     ]
    }
   ],
   "source": [
    "tfidf_matrix_test = tfidf.fit_transform(X_rf.essay.values.astype('U'))"
   ]
  },
  {
   "cell_type": "code",
   "execution_count": 333,
   "metadata": {},
   "outputs": [],
   "source": [
    "data_actual = pd.DataFrame(tfidf_matrix_test.toarray(), columns=tfidf.get_feature_names())"
   ]
  },
  {
   "cell_type": "code",
   "execution_count": 334,
   "metadata": {},
   "outputs": [],
   "source": [
    "data_actual.reset_index(drop=True, inplace=True)\n",
    "X_rf.reset_index(drop=True, inplace=True)\n",
    "df_rf_actual = pd.concat([data_actual, X_rf], axis=1)"
   ]
  },
  {
   "cell_type": "code",
   "execution_count": 335,
   "metadata": {},
   "outputs": [],
   "source": [
    "df_rf_actual = df_rf_actual.drop(\"essay\", axis=1)"
   ]
  },
  {
   "cell_type": "code",
   "execution_count": 373,
   "metadata": {},
   "outputs": [],
   "source": [
    "y_preds_test = gb.predict_proba(df_rf_actual)[:,1]"
   ]
  },
  {
   "cell_type": "code",
   "execution_count": 376,
   "metadata": {},
   "outputs": [],
   "source": [
    "y_preds_test = np.array([\"yes\" if val >=0.5 else \"no\" for val in y_preds_test])"
   ]
  },
  {
   "cell_type": "code",
   "execution_count": 380,
   "metadata": {},
   "outputs": [],
   "source": [
    "y_preds_test_df = pd.DataFrame(y_preds_test)"
   ]
  },
  {
   "cell_type": "code",
   "execution_count": 384,
   "metadata": {},
   "outputs": [],
   "source": [
    "final_table = pd.concat([users_test, y_preds_test_df], axis = 1)"
   ]
  },
  {
   "cell_type": "code",
   "execution_count": 389,
   "metadata": {},
   "outputs": [
    {
     "data": {
      "text/html": [
       "<div>\n",
       "<style scoped>\n",
       "    .dataframe tbody tr th:only-of-type {\n",
       "        vertical-align: middle;\n",
       "    }\n",
       "\n",
       "    .dataframe tbody tr th {\n",
       "        vertical-align: top;\n",
       "    }\n",
       "\n",
       "    .dataframe thead th {\n",
       "        text-align: right;\n",
       "    }\n",
       "</style>\n",
       "<table border=\"1\" class=\"dataframe\">\n",
       "  <thead>\n",
       "    <tr style=\"text-align: right;\">\n",
       "      <th></th>\n",
       "      <th>age</th>\n",
       "      <th>sex</th>\n",
       "      <th>essay</th>\n",
       "      <th>drinks</th>\n",
       "      <th>smokes</th>\n",
       "      <th>drugs</th>\n",
       "      <th>0</th>\n",
       "    </tr>\n",
       "  </thead>\n",
       "  <tbody>\n",
       "    <tr>\n",
       "      <th>3595</th>\n",
       "      <td>25</td>\n",
       "      <td>m</td>\n",
       "      <td>go omin self summari find humor everyth even m...</td>\n",
       "      <td>socially</td>\n",
       "      <td>no</td>\n",
       "      <td>NaN</td>\n",
       "      <td>no</td>\n",
       "    </tr>\n",
       "    <tr>\n",
       "      <th>4196</th>\n",
       "      <td>25</td>\n",
       "      <td>f</td>\n",
       "      <td>opposit messi unorgan impuls mesh add soft spo...</td>\n",
       "      <td>socially</td>\n",
       "      <td>NaN</td>\n",
       "      <td>NaN</td>\n",
       "      <td>no</td>\n",
       "    </tr>\n",
       "    <tr>\n",
       "      <th>27</th>\n",
       "      <td>28</td>\n",
       "      <td>m</td>\n",
       "      <td>like everyon els site feel awkward tri sum box...</td>\n",
       "      <td>socially</td>\n",
       "      <td>no</td>\n",
       "      <td>NaN</td>\n",
       "      <td>yes</td>\n",
       "    </tr>\n",
       "    <tr>\n",
       "      <th>4022</th>\n",
       "      <td>30</td>\n",
       "      <td>m</td>\n",
       "      <td>move california texa want go back school berke...</td>\n",
       "      <td>socially</td>\n",
       "      <td>no</td>\n",
       "      <td>NaN</td>\n",
       "      <td>no</td>\n",
       "    </tr>\n",
       "    <tr>\n",
       "      <th>5148</th>\n",
       "      <td>31</td>\n",
       "      <td>m</td>\n",
       "      <td>origin salt lace citi utah oakland last four y...</td>\n",
       "      <td>socially</td>\n",
       "      <td>sometimes</td>\n",
       "      <td>NaN</td>\n",
       "      <td>yes</td>\n",
       "    </tr>\n",
       "    <tr>\n",
       "      <th>1848</th>\n",
       "      <td>24</td>\n",
       "      <td>f</td>\n",
       "      <td>week ago hang friend odd reason end describ th...</td>\n",
       "      <td>socially</td>\n",
       "      <td>no</td>\n",
       "      <td>NaN</td>\n",
       "      <td>no</td>\n",
       "    </tr>\n",
       "    <tr>\n",
       "      <th>7254</th>\n",
       "      <td>34</td>\n",
       "      <td>m</td>\n",
       "      <td>witti clever funni sarcast stubborn hyperbol e...</td>\n",
       "      <td>often</td>\n",
       "      <td>when drinking</td>\n",
       "      <td>NaN</td>\n",
       "      <td>yes</td>\n",
       "    </tr>\n",
       "    <tr>\n",
       "      <th>113</th>\n",
       "      <td>35</td>\n",
       "      <td>m</td>\n",
       "      <td>made meat long rememb cope condit find way enj...</td>\n",
       "      <td>often</td>\n",
       "      <td>no</td>\n",
       "      <td>NaN</td>\n",
       "      <td>yes</td>\n",
       "    </tr>\n",
       "    <tr>\n",
       "      <th>3855</th>\n",
       "      <td>38</td>\n",
       "      <td>f</td>\n",
       "      <td>like laugh usual smile least quick wit enjoy m...</td>\n",
       "      <td>often</td>\n",
       "      <td>sometimes</td>\n",
       "      <td>NaN</td>\n",
       "      <td>yes</td>\n",
       "    </tr>\n",
       "    <tr>\n",
       "      <th>2150</th>\n",
       "      <td>40</td>\n",
       "      <td>f</td>\n",
       "      <td>famili import valu life grew five sibl parent ...</td>\n",
       "      <td>socially</td>\n",
       "      <td>no</td>\n",
       "      <td>NaN</td>\n",
       "      <td>no</td>\n",
       "    </tr>\n",
       "    <tr>\n",
       "      <th>13786</th>\n",
       "      <td>27</td>\n",
       "      <td>f</td>\n",
       "      <td>spend lot time offic like job definit pay bill...</td>\n",
       "      <td>socially</td>\n",
       "      <td>no</td>\n",
       "      <td>NaN</td>\n",
       "      <td>no</td>\n",
       "    </tr>\n",
       "    <tr>\n",
       "      <th>8920</th>\n",
       "      <td>28</td>\n",
       "      <td>m</td>\n",
       "      <td>im guy tri figur good time youth program atten...</td>\n",
       "      <td>socially</td>\n",
       "      <td>no</td>\n",
       "      <td>NaN</td>\n",
       "      <td>no</td>\n",
       "    </tr>\n",
       "    <tr>\n",
       "      <th>7468</th>\n",
       "      <td>44</td>\n",
       "      <td>f</td>\n",
       "      <td>friday night im comput cuz thought go bed alon...</td>\n",
       "      <td>often</td>\n",
       "      <td>no</td>\n",
       "      <td>NaN</td>\n",
       "      <td>yes</td>\n",
       "    </tr>\n",
       "    <tr>\n",
       "      <th>4220</th>\n",
       "      <td>46</td>\n",
       "      <td>m</td>\n",
       "      <td>citi three year although miss famili mi mounta...</td>\n",
       "      <td>socially</td>\n",
       "      <td>no</td>\n",
       "      <td>NaN</td>\n",
       "      <td>no</td>\n",
       "    </tr>\n",
       "    <tr>\n",
       "      <th>14009</th>\n",
       "      <td>28</td>\n",
       "      <td>m</td>\n",
       "      <td>NaN</td>\n",
       "      <td>socially</td>\n",
       "      <td>no</td>\n",
       "      <td>NaN</td>\n",
       "      <td>no</td>\n",
       "    </tr>\n",
       "    <tr>\n",
       "      <th>10937</th>\n",
       "      <td>24</td>\n",
       "      <td>f</td>\n",
       "      <td>die everyon netherland work social pedagogu ga...</td>\n",
       "      <td>socially</td>\n",
       "      <td>NaN</td>\n",
       "      <td>NaN</td>\n",
       "      <td>no</td>\n",
       "    </tr>\n",
       "    <tr>\n",
       "      <th>4733</th>\n",
       "      <td>42</td>\n",
       "      <td>m</td>\n",
       "      <td>athlet adventur spontan funni consider social ...</td>\n",
       "      <td>very often</td>\n",
       "      <td>NaN</td>\n",
       "      <td>NaN</td>\n",
       "      <td>yes</td>\n",
       "    </tr>\n",
       "    <tr>\n",
       "      <th>6151</th>\n",
       "      <td>25</td>\n",
       "      <td>m</td>\n",
       "      <td>let everyon know move take job new york soon m...</td>\n",
       "      <td>socially</td>\n",
       "      <td>no</td>\n",
       "      <td>NaN</td>\n",
       "      <td>no</td>\n",
       "    </tr>\n",
       "    <tr>\n",
       "      <th>1247</th>\n",
       "      <td>29</td>\n",
       "      <td>f</td>\n",
       "      <td>ladi oklahoma break free stifl conservat find ...</td>\n",
       "      <td>socially</td>\n",
       "      <td>no</td>\n",
       "      <td>NaN</td>\n",
       "      <td>yes</td>\n",
       "    </tr>\n",
       "    <tr>\n",
       "      <th>1450</th>\n",
       "      <td>37</td>\n",
       "      <td>f</td>\n",
       "      <td>obsess sound syllabl mood tone pace meter land...</td>\n",
       "      <td>socially</td>\n",
       "      <td>NaN</td>\n",
       "      <td>NaN</td>\n",
       "      <td>no</td>\n",
       "    </tr>\n",
       "  </tbody>\n",
       "</table>\n",
       "</div>"
      ],
      "text/plain": [
       "       age sex                                              essay      drinks  \\\n",
       "3595    25   m  go omin self summari find humor everyth even m...    socially   \n",
       "4196    25   f  opposit messi unorgan impuls mesh add soft spo...    socially   \n",
       "27      28   m  like everyon els site feel awkward tri sum box...    socially   \n",
       "4022    30   m  move california texa want go back school berke...    socially   \n",
       "5148    31   m  origin salt lace citi utah oakland last four y...    socially   \n",
       "1848    24   f  week ago hang friend odd reason end describ th...    socially   \n",
       "7254    34   m  witti clever funni sarcast stubborn hyperbol e...       often   \n",
       "113     35   m  made meat long rememb cope condit find way enj...       often   \n",
       "3855    38   f  like laugh usual smile least quick wit enjoy m...       often   \n",
       "2150    40   f  famili import valu life grew five sibl parent ...    socially   \n",
       "13786   27   f  spend lot time offic like job definit pay bill...    socially   \n",
       "8920    28   m  im guy tri figur good time youth program atten...    socially   \n",
       "7468    44   f  friday night im comput cuz thought go bed alon...       often   \n",
       "4220    46   m  citi three year although miss famili mi mounta...    socially   \n",
       "14009   28   m                                                NaN    socially   \n",
       "10937   24   f  die everyon netherland work social pedagogu ga...    socially   \n",
       "4733    42   m  athlet adventur spontan funni consider social ...  very often   \n",
       "6151    25   m  let everyon know move take job new york soon m...    socially   \n",
       "1247    29   f  ladi oklahoma break free stifl conservat find ...    socially   \n",
       "1450    37   f  obsess sound syllabl mood tone pace meter land...    socially   \n",
       "\n",
       "              smokes  drugs    0  \n",
       "3595              no    NaN   no  \n",
       "4196             NaN    NaN   no  \n",
       "27                no    NaN  yes  \n",
       "4022              no    NaN   no  \n",
       "5148       sometimes    NaN  yes  \n",
       "1848              no    NaN   no  \n",
       "7254   when drinking    NaN  yes  \n",
       "113               no    NaN  yes  \n",
       "3855       sometimes    NaN  yes  \n",
       "2150              no    NaN   no  \n",
       "13786             no    NaN   no  \n",
       "8920              no    NaN   no  \n",
       "7468              no    NaN  yes  \n",
       "4220              no    NaN   no  \n",
       "14009             no    NaN   no  \n",
       "10937            NaN    NaN   no  \n",
       "4733             NaN    NaN  yes  \n",
       "6151              no    NaN   no  \n",
       "1247              no    NaN  yes  \n",
       "1450             NaN    NaN   no  "
      ]
     },
     "execution_count": 389,
     "metadata": {},
     "output_type": "execute_result"
    }
   ],
   "source": [
    "final_table[[\"age\", \"sex\", \"essay\",\"drinks\", \"smokes\",\"drugs\", 0]].sample(20)"
   ]
  }
 ],
 "metadata": {
  "kernelspec": {
   "display_name": "Python 3",
   "language": "python",
   "name": "python3"
  },
  "language_info": {
   "codemirror_mode": {
    "name": "ipython",
    "version": 3
   },
   "file_extension": ".py",
   "mimetype": "text/x-python",
   "name": "python",
   "nbconvert_exporter": "python",
   "pygments_lexer": "ipython3",
   "version": "3.7.7"
  }
 },
 "nbformat": 4,
 "nbformat_minor": 4
}
