{
 "cells": [
  {
   "cell_type": "code",
   "execution_count": 147,
   "metadata": {},
   "outputs": [
    {
     "name": "stderr",
     "output_type": "stream",
     "text": [
      "[nltk_data] Downloading package stopwords to\n",
      "[nltk_data]     /Users/shwetasharma1/nltk_data...\n",
      "[nltk_data]   Package stopwords is already up-to-date!\n",
      "[nltk_data] Downloading package punkt to\n",
      "[nltk_data]     /Users/shwetasharma1/nltk_data...\n",
      "[nltk_data]   Package punkt is already up-to-date!\n"
     ]
    }
   ],
   "source": [
    "import pandas as pd\n",
    "import matplotlib.pyplot as plt\n",
    "import numpy as np\n",
    "plt.style.use(\"ggplot\")\n",
    "from pylab import rcParams\n",
    "import seaborn as sns\n",
    "%matplotlib inline\n",
    "np.random.seed(27)\n",
    "rcParams['figure.figsize'] = 10, 6\n",
    "sns.set(style=\"darkgrid\")\n",
    "from sklearn.model_selection import train_test_split, KFold\n",
    "from imblearn.over_sampling import SMOTE\n",
    "from sklearn.linear_model import LogisticRegression\n",
    "from sklearn.metrics import accuracy_score, precision_score, recall_score, confusion_matrix, f1_score, roc_auc_score, roc_curve\n",
    "from sklearn.ensemble import RandomForestClassifier, GradientBoostingClassifier\n",
    "import pandas as pd\n",
    "import nltk\n",
    "import re\n",
    "import unicodedata\n",
    "from nltk.tokenize import sent_tokenize\n",
    "from nltk.tokenize import word_tokenize\n",
    "from nltk.corpus import stopwords\n",
    "\n",
    "import string\n",
    "nltk.download('stopwords')\n",
    "nltk.download('punkt')\n",
    "stopwords_ = set(stopwords.words('english'))\n",
    "punctuation_ = set(string.punctuation)\n",
    "\n",
    "from nltk.stem.snowball import SnowballStemmer\n",
    "stemmer_snowball = SnowballStemmer('english')\n",
    "\n",
    "from nltk.stem.porter import PorterStemmer\n",
    "stemmer_porter = PorterStemmer()\n",
    "from nltk.stem import WordNetLemmatizer\n",
    "from nltk import pos_tag\n",
    "\n",
    "from sklearn.feature_extraction.text import TfidfVectorizer\n",
    "\n",
    "\n"
   ]
  },
  {
   "cell_type": "code",
   "execution_count": 179,
   "metadata": {},
   "outputs": [],
   "source": [
    "# diet column has more than half nans. will not be using it.\n",
    "#income had many negative values. dropping tyhis column as well\n",
    "# users_no_na.groupby([\"ethnicity\"]).size()\n",
    "\n",
    "# users = pd.read_csv(\"./data/profiles.csv\")\n",
    "df = pd.read_csv(\"./users_essay\")\n",
    "# users_no_na = users[users[\"drugs\"].notna()]\n"
   ]
  },
  {
   "cell_type": "code",
   "execution_count": 180,
   "metadata": {
    "collapsed": true
   },
   "outputs": [
    {
     "ename": "NameError",
     "evalue": "name 'users_no_na' is not defined",
     "output_type": "error",
     "traceback": [
      "\u001b[0;31m---------------------------------------------------------------------------\u001b[0m",
      "\u001b[0;31mNameError\u001b[0m                                 Traceback (most recent call last)",
      "\u001b[0;32m<ipython-input-180-83f813dc33a5>\u001b[0m in \u001b[0;36m<module>\u001b[0;34m\u001b[0m\n\u001b[0;32m----> 1\u001b[0;31m \u001b[0musers_no_na\u001b[0m\u001b[0;34m[\u001b[0m\u001b[0;34m\"essay\"\u001b[0m\u001b[0;34m]\u001b[0m \u001b[0;34m=\u001b[0m \u001b[0musers_no_na\u001b[0m\u001b[0;34m[\u001b[0m\u001b[0;34m\"essay0\"\u001b[0m\u001b[0;34m]\u001b[0m \u001b[0;34m+\u001b[0m \u001b[0musers_no_na\u001b[0m\u001b[0;34m[\u001b[0m\u001b[0;34m\"essay1\"\u001b[0m\u001b[0;34m]\u001b[0m \u001b[0;34m+\u001b[0m \u001b[0musers_no_na\u001b[0m\u001b[0;34m[\u001b[0m\u001b[0;34m\"essay2\"\u001b[0m\u001b[0;34m]\u001b[0m \u001b[0;34m+\u001b[0m \u001b[0musers_no_na\u001b[0m\u001b[0;34m[\u001b[0m\u001b[0;34m\"essay3\"\u001b[0m\u001b[0;34m]\u001b[0m \u001b[0;34m+\u001b[0m \u001b[0musers_no_na\u001b[0m\u001b[0;34m[\u001b[0m\u001b[0;34m\"essay4\"\u001b[0m\u001b[0;34m]\u001b[0m \u001b[0;34m+\u001b[0m \u001b[0musers_no_na\u001b[0m\u001b[0;34m[\u001b[0m\u001b[0;34m\"essay5\"\u001b[0m\u001b[0;34m]\u001b[0m \u001b[0;34m+\u001b[0m \u001b[0musers_no_na\u001b[0m\u001b[0;34m[\u001b[0m\u001b[0;34m\"essay6\"\u001b[0m\u001b[0;34m]\u001b[0m \u001b[0;34m+\u001b[0m \u001b[0musers_no_na\u001b[0m\u001b[0;34m[\u001b[0m\u001b[0;34m\"essay7\"\u001b[0m\u001b[0;34m]\u001b[0m \u001b[0;34m+\u001b[0m \u001b[0musers_no_na\u001b[0m\u001b[0;34m[\u001b[0m\u001b[0;34m\"essay8\"\u001b[0m\u001b[0;34m]\u001b[0m \u001b[0;34m+\u001b[0m \u001b[0musers_no_na\u001b[0m\u001b[0;34m[\u001b[0m\u001b[0;34m\"essay9\"\u001b[0m\u001b[0;34m]\u001b[0m\u001b[0;34m\u001b[0m\u001b[0;34m\u001b[0m\u001b[0m\n\u001b[0m",
      "\u001b[0;31mNameError\u001b[0m: name 'users_no_na' is not defined"
     ]
    }
   ],
   "source": [
    "users_no_na[\"essay\"] = users_no_na[\"essay0\"] + users_no_na[\"essay1\"] + users_no_na[\"essay2\"] + users_no_na[\"essay3\"] + users_no_na[\"essay4\"] + users_no_na[\"essay5\"] + users_no_na[\"essay6\"] + users_no_na[\"essay7\"] + users_no_na[\"essay8\"] + users_no_na[\"essay9\"]"
   ]
  },
  {
   "cell_type": "markdown",
   "metadata": {},
   "source": [
    "## preprocessing for NLP"
   ]
  },
  {
   "cell_type": "code",
   "execution_count": null,
   "metadata": {},
   "outputs": [],
   "source": [
    "def clean_text(text):\n",
    "    '''\n",
    "    clean the text data: split the text, remove the redundant signs and words.\n",
    "    '''\n",
    "    text = text.replace('<br />', ' ')\n",
    "    text = text.replace('\\n', ' ')\n",
    "    words = nltk.word_tokenize(text)   #split the text into words\n",
    "    words = [word for word in words if word.isalpha()]    #remove the non-alphabetic signs\n",
    "    stop_words = stopwords.words('english')\n",
    "    words = [word for word in words if word not in set(stop_words)]   #remove the stop words\n",
    "    return words\n",
    "\n",
    "def clean_text_column(df, col_name):\n",
    "    '''\n",
    "    input a dataframe and one of its column, the function clean the text within\n",
    "    the column.\n",
    "    '''\n",
    "    df_ = df[df[col_name].notnull()]\n",
    "    df[col_name] = df_.apply(lambda row: clean_text(row[col_name]), axis = 1)"
   ]
  },
  {
   "cell_type": "code",
   "execution_count": null,
   "metadata": {},
   "outputs": [],
   "source": [
    "\n",
    "def remove_accents(input_str):\n",
    "    '''\n",
    "    This function is to remove the accents\n",
    "    '''\n",
    "    nfkd_form = unicodedata.normalize('NFKD', input_str)\n",
    "    only_ascii = nfkd_form.encode('ASCII', 'ignore')\n",
    "    return only_ascii.decode()\n",
    "\n",
    "def remove_http(sentences):\n",
    "    '''\n",
    "    remove the URLs in the text\n",
    "    '''\n",
    "    sentences_ = []\n",
    "    for sentence in sentences:\n",
    "        sentence = re.sub(r\"http\\S+\", \"\", sentence)\n",
    "        sentences_.append(sentence)\n",
    "    return [sent for sent in sentences_ if not sent in {\"\", \"'\"}]\n",
    "\n",
    "def filter_tokens(sentence):\n",
    "    '''\n",
    "    This is to remove the stop words. Update the stop words in set stopwords2\n",
    "    '''\n",
    "    stopwords1 = set(stopwords.words('english'))\n",
    "    stopwords2 = {\"\\'s\",\"\\'ve\",\"\\'re\", \"n't\", 'INFJ', 'ENTP', 'INTP', 'INTJ', 'ENTJ', 'ENFJ', 'INFP', 'ENFP',\n",
    "                  'ISFP', 'ISTP', 'ISFJ', 'ISTJ', 'ESTP', 'ESFP', 'ESTJ', 'ESFJ', 'infj', 'entp','intp','intj',\n",
    "                  'entj','enfj','infp', 'enfp','isfp','istp','isfj','istj','estp','esfp','estj','esfj'}\n",
    "    stopwords_ = stopwords1.union(stopwords2)\n",
    "    \n",
    "    punctuation_ = set(string.punctuation)\n",
    "    return([w for w in sentence if not w in stopwords_ and not w in punctuation_])\n",
    "\n",
    "def remove_digits(sentences):\n",
    "    '''\n",
    "    remove the numbers in the text\n",
    "    '''\n",
    "    sentences_ = []\n",
    "    for sentence in sentences:\n",
    "        sentence = re.sub(r'[^a-zA-Z]+', ' ', sentence)\n",
    "        sentences_.append(sentence)\n",
    "    return [sent for sent in sentences_ if not sent in {\"\", \"'\"}]\n",
    "\n",
    "def lemm_and_stem(sentences):\n",
    "    '''\n",
    "    lemmatizing and stemming the words\n",
    "    '''\n",
    "    lemmatizer = WordNetLemmatizer()\n",
    "    stemmer = PorterStemmer()\n",
    "    \n",
    "    output = []\n",
    "    for word_list in sentences:\n",
    "        lemmatized_words = [lemmatizer.lemmatize(w) for w in word_list]\n",
    "        stemmed_words = ' '.join([stemmer.stem(w) for w in lemmatized_words])\n",
    "        output.append(stemmed_words)\n",
    "    return output"
   ]
  },
  {
   "cell_type": "code",
   "execution_count": null,
   "metadata": {},
   "outputs": [],
   "source": [
    "def clean_data(input_str):\n",
    "    accent_removed=remove_accents(input_str) #remove the accent\n",
    "    sentences = accent_removed.split('|||') #split the string and get sentences\n",
    "    removed_http = remove_http(sentences)\n",
    "    removed_digits = remove_digits(removed_http)\n",
    "    tokens = [sent for sent in map(word_tokenize, removed_digits)]\n",
    "    tokens_lower = [[word.lower() for word in sentence]\n",
    "                 for sentence in tokens]\n",
    "    \n",
    "    tokens_filtered = list(map(filter_tokens, tokens_lower))\n",
    "    tokens_lemms = lemm_and_stem(tokens_filtered)\n",
    "\n",
    "    return tokens_lemms\n",
    "\n"
   ]
  },
  {
   "cell_type": "code",
   "execution_count": 168,
   "metadata": {},
   "outputs": [],
   "source": [
    "def run_model(estimator, X, y):\n",
    "    kf = KFold(n_splits=5, shuffle=True)\n",
    "    \n",
    "    acc = []\n",
    "    f1 = []\n",
    "    for train_idx, test_idx in kf.split(X):\n",
    "        X_train = X[train_idx]\n",
    "        y_train = y[train_idx]\n",
    "         \n",
    "        \n",
    "        X_test = X[test_idx]\n",
    "        y_test = y[test_idx]\n",
    "\n",
    "        # data prep\n",
    "        \n",
    "        estimator.fit(X_train, y_train)\n",
    "        y_preds = estimator.predict(X_test)\n",
    "        acc.append(accuracy_score(y_test, y_preds))\n",
    "        f1.append(f1_score(y_test, y_preds))\n",
    "    \n",
    "    generate_model_report(y_test, y_preds)\n",
    "        \n",
    "    plt.plot(range(0, 5), f1, label=estimator.__class__.__name__)"
   ]
  },
  {
   "cell_type": "code",
   "execution_count": 189,
   "metadata": {},
   "outputs": [],
   "source": [
    "def generate_model_report(y_actual, y_predicted):\n",
    "    print('Accuracy: %.3f' % accuracy_score(y_actual, y_predicted))\n",
    "    print('Precision: %.3f' % precision_score(y_actual, y_predicted))\n",
    "    print( 'Recall: %.3f' % recall_score(y_actual, y_predicted))\n",
    "    print('F1 score: %.3f' % f1_score(y_actual, y_predicted))\n"
   ]
  },
  {
   "cell_type": "code",
   "execution_count": null,
   "metadata": {},
   "outputs": [],
   "source": [
    "clean_text_column(users_no_na, 'essay')\n",
    "users_no_na[\"essay\"] = users_no_na[\"essay\"].apply(lambda x: \", \".join(x))\n",
    " "
   ]
  },
  {
   "cell_type": "code",
   "execution_count": null,
   "metadata": {},
   "outputs": [],
   "source": [
    "users_no_na[\"essay\"]=  users_no_na[\"essay\"].apply(lambda x: clean_data(x))"
   ]
  },
  {
   "cell_type": "code",
   "execution_count": null,
   "metadata": {},
   "outputs": [],
   "source": [
    "users_no_na[\"essay\"] = users_no_na[\"essay\"].apply(lambda x: x[0] if x !=[] else \"\")"
   ]
  },
  {
   "cell_type": "code",
   "execution_count": null,
   "metadata": {},
   "outputs": [],
   "source": [
    "users_no_na = pd.DataFrame(users_no_na)"
   ]
  },
  {
   "cell_type": "code",
   "execution_count": null,
   "metadata": {},
   "outputs": [],
   "source": [
    "users_no_na.to_csv(\"users_essay\") "
   ]
  },
  {
   "cell_type": "code",
   "execution_count": 181,
   "metadata": {},
   "outputs": [
    {
     "name": "stderr",
     "output_type": "stream",
     "text": [
      "/Users/shwetasharma1/opt/anaconda3/lib/python3.7/site-packages/ipykernel_launcher.py:4: SettingWithCopyWarning: \n",
      "A value is trying to be set on a copy of a slice from a DataFrame.\n",
      "Try using .loc[row_indexer,col_indexer] = value instead\n",
      "\n",
      "See the caveats in the documentation: https://pandas.pydata.org/pandas-docs/stable/user_guide/indexing.html#returning-a-view-versus-a-copy\n",
      "  after removing the cwd from sys.path.\n"
     ]
    }
   ],
   "source": [
    "# rf_data = df[[\"age\", \"drinks\", \"education\", \"ethnicity\", \"orientation\", \"sex\", \"smokes\", \"religion\", \"drugs\", \"essay\"]]\n",
    "rf_data = df[[\"age\",\"drinks\",\"smokes\", \"drugs\"]]\n",
    "\n",
    "rf_data[\"drugs\"] = rf_data[\"drugs\"].replace([\"never\",\"sometimes\", \"often\"], [0,1,1])"
   ]
  },
  {
   "cell_type": "code",
   "execution_count": 182,
   "metadata": {},
   "outputs": [
    {
     "name": "stderr",
     "output_type": "stream",
     "text": [
      "/Users/shwetasharma1/opt/anaconda3/lib/python3.7/site-packages/ipykernel_launcher.py:2: SettingWithCopyWarning: \n",
      "A value is trying to be set on a copy of a slice from a DataFrame.\n",
      "Try using .loc[row_indexer,col_indexer] = value instead\n",
      "\n",
      "See the caveats in the documentation: https://pandas.pydata.org/pandas-docs/stable/user_guide/indexing.html#returning-a-view-versus-a-copy\n",
      "  \n",
      "/Users/shwetasharma1/opt/anaconda3/lib/python3.7/site-packages/ipykernel_launcher.py:3: SettingWithCopyWarning: \n",
      "A value is trying to be set on a copy of a slice from a DataFrame.\n",
      "Try using .loc[row_indexer,col_indexer] = value instead\n",
      "\n",
      "See the caveats in the documentation: https://pandas.pydata.org/pandas-docs/stable/user_guide/indexing.html#returning-a-view-versus-a-copy\n",
      "  This is separate from the ipykernel package so we can avoid doing imports until\n"
     ]
    }
   ],
   "source": [
    "#treating nans\n",
    "rf_data[\"drinks\"] = rf_data[\"drinks\"].fillna(\"not at all\")\n",
    "rf_data[\"smokes\"] = rf_data[\"smokes\"].fillna(\"no\")\n",
    "# rf_data[\"smokes\"] = rf_data[\"smokes\"].fillna(\" \")"
   ]
  },
  {
   "cell_type": "code",
   "execution_count": 183,
   "metadata": {},
   "outputs": [],
   "source": [
    "# cleaned_rf_data = rf_data[[\"age\", \"drinks\", \"education\", \"ethnicity\", \"orientation\", \"sex\", \"smokes\", \"religion\", \"drugs\"]]\n",
    "\n",
    "cleaned_rf_data = rf_data[[\"age\", \"drinks\", \"smokes\", \"drugs\"]]\n",
    "cleaned_rf_data_dummified = pd.get_dummies(cleaned_rf_data)\n",
    "\n"
   ]
  },
  {
   "cell_type": "code",
   "execution_count": 184,
   "metadata": {},
   "outputs": [],
   "source": [
    "X_rf = cleaned_rf_data_dummified.loc[:,cleaned_rf_data_dummified.columns != \"drugs\"]\n",
    "\n",
    "\n",
    "y_rf = cleaned_rf_data_dummified.loc[:,cleaned_rf_data_dummified.columns == \"drugs\"]"
   ]
  },
  {
   "cell_type": "code",
   "execution_count": 185,
   "metadata": {},
   "outputs": [],
   "source": [
    "X_rf_train, X_rf_test, y_rf_train, y_rf_test = train_test_split(X_rf, y_rf, test_size = .10, random_state=1)"
   ]
  },
  {
   "cell_type": "code",
   "execution_count": 186,
   "metadata": {},
   "outputs": [],
   "source": [
    "# Class count\n",
    "count_class_0, count_class_1 = cleaned_rf_data_dummified['drugs'].value_counts()\n",
    "\n",
    "rf_class_0 = cleaned_rf_data_dummified[cleaned_rf_data_dummified['drugs'] == 0]\n",
    "rf_class_1 = cleaned_rf_data_dummified[cleaned_rf_data_dummified['drugs'] == 1]"
   ]
  },
  {
   "cell_type": "code",
   "execution_count": 187,
   "metadata": {},
   "outputs": [
    {
     "name": "stdout",
     "output_type": "stream",
     "text": [
      "Random over-sampling:\n",
      "1    37724\n",
      "0    37724\n",
      "Name: drugs, dtype: int64\n"
     ]
    },
    {
     "data": {
      "image/png": "[encoded data removed]",
      "text/plain": [
       "<Figure size 720x432 with 1 Axes>"
      ]
     },
     "metadata": {},
     "output_type": "display_data"
    }
   ],
   "source": [
    "rf_class_1_over = rf_class_1.sample(count_class_0, replace=True)\n",
    "rf_test_over = pd.concat([rf_class_0, rf_class_1_over], axis=0)\n",
    "\n",
    "print('Random over-sampling:')\n",
    "print(rf_test_over[\"drugs\"].value_counts())\n",
    "\n",
    "rf_test_over[\"drugs\"].value_counts().plot(kind='bar', title='Count (target)');"
   ]
  },
  {
   "cell_type": "code",
   "execution_count": 198,
   "metadata": {},
   "outputs": [],
   "source": [
    "X_rf_over = rf_test_over.loc[:, rf_test_over.columns != \"drugs\"]\n",
    "y_rf_over = rf_test_over.loc[:, rf_test_over.columns==\"drugs\"]\n",
    "X_rf_over_train, X_rf_over_test, y_rf_over_train, y_rf_over_test = train_test_split(X_rf_over, y_rf_over[\"drugs\"], test_size=0.10, random_state=1)\n"
   ]
  },
  {
   "cell_type": "code",
   "execution_count": 169,
   "metadata": {
    "collapsed": true
   },
   "outputs": [
    {
     "name": "stdout",
     "output_type": "stream",
     "text": [
      "Accuracy: 0.698\n",
      "Precision: 0.774\n",
      "Recall: 0.566\n",
      "F1 score: 0.654\n",
      "Accuracy: 0.704\n",
      "Precision: 0.770\n",
      "Recall: 0.581\n",
      "F1 score: 0.662\n"
     ]
    },
    {
     "data": {
      "text/plain": [
       "<matplotlib.legend.Legend at 0x7fdf129ec9d0>"
      ]
     },
     "execution_count": 169,
     "metadata": {},
     "output_type": "execute_result"
    },
    {
     "data": {
      "image/png": "[encoded data removed]",
      "text/plain": [
       "<Figure size 720x432 with 1 Axes>"
      ]
     },
     "metadata": {},
     "output_type": "display_data"
    }
   ],
   "source": [
    "estimators = [RandomForestClassifier(), GradientBoostingClassifier()]\n",
    "for estimator in estimators:\n",
    "    run_model(estimator, X_rf_over_train.values, y_rf_over_train.values)\n",
    "    \n",
    "plt.ylabel('Accuracy', fontsize=20)\n",
    "plt.xlabel('# of Folds', fontsize=20)\n",
    "plt.legend()"
   ]
  },
  {
   "cell_type": "code",
   "execution_count": 197,
   "metadata": {},
   "outputs": [
    {
     "name": "stdout",
     "output_type": "stream",
     "text": [
      "Accuracy: 0.704\n",
      "Precision: 0.786\n",
      "Recall: 0.562\n",
      "F1 score: 0.655\n"
     ]
    }
   ],
   "source": [
    "model = RandomForestClassifier()\n",
    "model.fit(X_rf_over_train, y_rf_over_train)\n",
    "y_rf_over_preds = model.predict(X_rf_over_test)\n",
    "generate_model_report(y_rf_over_test, y_rf_over_preds)"
   ]
  },
  {
   "cell_type": "code",
   "execution_count": 199,
   "metadata": {},
   "outputs": [
    {
     "name": "stdout",
     "output_type": "stream",
     "text": [
      "Accuracy: 0.795\n",
      "Precision: 0.426\n",
      "Recall: 0.577\n",
      "F1 score: 0.490\n"
     ]
    }
   ],
   "source": [
    "y_final_preds = model.predict(X_rf_test)\n",
    "generate_model_report(y_rf_test, y_final_preds)"
   ]
  },
  {
   "cell_type": "code",
   "execution_count": 200,
   "metadata": {},
   "outputs": [
    {
     "name": "stdout",
     "output_type": "stream",
     "text": [
      "Accuracy: 0.784\n",
      "Precision: 0.408\n",
      "Recall: 0.580\n",
      "F1 score: 0.479\n"
     ]
    }
   ],
   "source": [
    "model = GradientBoostingClassifier()\n",
    "model.fit(X_rf_over_train, y_rf_over_train)\n",
    "y_final_preds = model.predict(X_rf_test)\n",
    "generate_model_report(y_rf_test, y_final_preds)"
   ]
  },
  {
   "cell_type": "code",
   "execution_count": 201,
   "metadata": {},
   "outputs": [
    {
     "name": "stdout",
     "output_type": "stream",
     "text": [
      "Accuracy: 0.784\n",
      "Precision: 0.408\n",
      "Recall: 0.580\n",
      "F1 score: 0.479\n"
     ]
    }
   ],
   "source": [
    "y_final_preds = model.predict(X_rf_test)\n",
    "generate_model_report(y_rf_test, y_final_preds)"
   ]
  },
  {
   "cell_type": "code",
   "execution_count": null,
   "metadata": {},
   "outputs": [],
   "source": [
    "# Plot the feature importance\n",
    "feat_scores = pd.DataFrame({'Fraction of Samples Affected' : model.feature_importances_},\n",
    "                           index=X_rf.columns)\n",
    "feat_scores = feat_scores.sort_values(by='Fraction of Samples Affected')\n",
    "feat_scores.plot(kind='barh')\n",
    "plt.title('RF Feature Importances - MDI')"
   ]
  },
  {
   "cell_type": "code",
   "execution_count": 207,
   "metadata": {},
   "outputs": [],
   "source": [
    "from sklearn.model_selection import GridSearchCV\n",
    "\n",
    "def display_default_and_gsearch_model_results(model_default, model_gridsearch, \n",
    "                                              X_test, y_test):\n",
    "    '''\n",
    "        Parameters: model_default: fit model using initial parameters\n",
    "                    model_gridsearch: fit model using parameters from gridsearch\n",
    "                    X_test: 2d numpy array\n",
    "                    y_test: 1d numpy array\n",
    "        Return: None, but prints out mse and r2 for the default and model with\n",
    "                gridsearched parameters\n",
    "    '''\n",
    "    name = model_default.__class__.__name__.replace('Classifier', '') # for printing\n",
    "    y_test_pred = model_gridsearch.predict(X_test)\n",
    "    acc = accuracy_score(y_test, y_test_pred)\n",
    "    print(\"Results for {0}\".format(name))\n",
    "    print(\"Gridsearched model acc: {:0.3f}\".format(acc))\n",
    "    y_test_pred = model_default.predict(X_test)\n",
    "    acc = accuracy_score(y_test, y_test_pred)\n",
    "    print(\"     Default model acc: {:0.3f}\".format(acc))\n",
    "    \n",
    "    \n",
    "    \n",
    "def gridsearch_with_output(estimator, parameter_grid, X_train, y_train):\n",
    "    '''\n",
    "        Parameters: estimator: the type of model (e.g. RandomForestRegressor())\n",
    "                    paramter_grid: dictionary defining the gridsearch parameters\n",
    "                    X_train: 2d numpy array\n",
    "                    y_train: 1d numpy array\n",
    "        Returns:  best parameters and model fit with those parameters\n",
    "    '''\n",
    "    model_gridsearch = GridSearchCV(estimator,\n",
    "                                    parameter_grid,\n",
    "                                    n_jobs=-1,\n",
    "                                    verbose=True,\n",
    "                                    scoring='accuracy')\n",
    "    model_gridsearch.fit(X_train, y_train)\n",
    "    best_params = model_gridsearch.best_params_ \n",
    "    model_best = model_gridsearch.best_estimator_\n",
    "    print(\"\\nResult of gridsearch:\")\n",
    "    print(\"{0:<20s} | {1:<8s} | {2}\".format(\"Parameter\", \"Optimal\", \"Gridsearch values\"))\n",
    "    print(\"-\" * 55)\n",
    "    for param, vals in parameter_grid.items():\n",
    "        print(\"{0:<20s} | {1:<8s} | {2}\".format(str(param), \n",
    "                                                str(best_params[param]),\n",
    "                                                str(vals)))\n",
    "    return best_params, model_best\n",
    "\n",
    "\n"
   ]
  },
  {
   "cell_type": "code",
   "execution_count": 208,
   "metadata": {},
   "outputs": [
    {
     "name": "stdout",
     "output_type": "stream",
     "text": [
      "Accuracy: 0.700\n",
      "Precision: 0.776\n",
      "Recall: 0.564\n",
      "F1 score: 0.654\n"
     ]
    }
   ],
   "source": [
    "gb = GradientBoostingClassifier(learning_rate=0.1, n_estimators=500, max_depth=2, random_state=1, max_features=1, verbose=0, max_leaf_nodes=None, warm_start=False, presort='deprecated', validation_fraction=0.1, n_iter_no_change=None, tol=0.0001, ccp_alpha=0.0)\n",
    "gb.fit(X_rf_over_train, y_rf_over_train)\n",
    "y_rf_over_preds = model.predict(X_rf_over_test)\n",
    "generate_model_report(y_rf_over_test, y_rf_over_preds)\n",
    "\n",
    "\n"
   ]
  },
  {
   "cell_type": "code",
   "execution_count": 209,
   "metadata": {},
   "outputs": [
    {
     "name": "stdout",
     "output_type": "stream",
     "text": [
      "Accuracy: 0.785\n",
      "Precision: 0.410\n",
      "Recall: 0.583\n",
      "F1 score: 0.482\n"
     ]
    }
   ],
   "source": [
    "y_final_preds = gb.predict(X_rf_test)\n",
    "generate_model_report(y_rf_test, y_final_preds)"
   ]
  },
  {
   "cell_type": "code",
   "execution_count": 210,
   "metadata": {},
   "outputs": [],
   "source": [
    "rf = RandomForestClassifier()"
   ]
  },
  {
   "cell_type": "code",
   "execution_count": 211,
   "metadata": {
    "collapsed": true
   },
   "outputs": [
    {
     "name": "stdout",
     "output_type": "stream",
     "text": [
      "Fitting 5 folds for each of 288 candidates, totalling 1440 fits\n"
     ]
    },
    {
     "name": "stderr",
     "output_type": "stream",
     "text": [
      "[Parallel(n_jobs=-1)]: Using backend LokyBackend with 4 concurrent workers.\n",
      "[Parallel(n_jobs=-1)]: Done  42 tasks      | elapsed:   12.3s\n",
      "[Parallel(n_jobs=-1)]: Done 192 tasks      | elapsed:   45.4s\n"
     ]
    },
    {
     "ename": "KeyboardInterrupt",
     "evalue": "",
     "output_type": "error",
     "traceback": [
      "\u001b[0;31m---------------------------------------------------------------------------\u001b[0m",
      "\u001b[0;31mKeyboardInterrupt\u001b[0m                         Traceback (most recent call last)",
      "\u001b[0;32m<ipython-input-211-a8974da68fc2>\u001b[0m in \u001b[0;36m<module>\u001b[0;34m\u001b[0m\n\u001b[1;32m      8\u001b[0m rf_best_params, rf_best_model = gridsearch_with_output(RandomForestClassifier(), \n\u001b[1;32m      9\u001b[0m                                                        \u001b[0mrandom_forest_grid\u001b[0m\u001b[0;34m,\u001b[0m\u001b[0;34m\u001b[0m\u001b[0;34m\u001b[0m\u001b[0m\n\u001b[0;32m---> 10\u001b[0;31m                                                        X_rf_over_train, y_rf_over_train)\n\u001b[0m",
      "\u001b[0;32m<ipython-input-207-617dbdb8d006>\u001b[0m in \u001b[0;36mgridsearch_with_output\u001b[0;34m(estimator, parameter_grid, X_train, y_train)\u001b[0m\n\u001b[1;32m     35\u001b[0m                                     \u001b[0mverbose\u001b[0m\u001b[0;34m=\u001b[0m\u001b[0;32mTrue\u001b[0m\u001b[0;34m,\u001b[0m\u001b[0;34m\u001b[0m\u001b[0;34m\u001b[0m\u001b[0m\n\u001b[1;32m     36\u001b[0m                                     scoring='accuracy')\n\u001b[0;32m---> 37\u001b[0;31m     \u001b[0mmodel_gridsearch\u001b[0m\u001b[0;34m.\u001b[0m\u001b[0mfit\u001b[0m\u001b[0;34m(\u001b[0m\u001b[0mX_train\u001b[0m\u001b[0;34m,\u001b[0m \u001b[0my_train\u001b[0m\u001b[0;34m)\u001b[0m\u001b[0;34m\u001b[0m\u001b[0;34m\u001b[0m\u001b[0m\n\u001b[0m\u001b[1;32m     38\u001b[0m     \u001b[0mbest_params\u001b[0m \u001b[0;34m=\u001b[0m \u001b[0mmodel_gridsearch\u001b[0m\u001b[0;34m.\u001b[0m\u001b[0mbest_params_\u001b[0m\u001b[0;34m\u001b[0m\u001b[0;34m\u001b[0m\u001b[0m\n\u001b[1;32m     39\u001b[0m     \u001b[0mmodel_best\u001b[0m \u001b[0;34m=\u001b[0m \u001b[0mmodel_gridsearch\u001b[0m\u001b[0;34m.\u001b[0m\u001b[0mbest_estimator_\u001b[0m\u001b[0;34m\u001b[0m\u001b[0;34m\u001b[0m\u001b[0m\n",
      "\u001b[0;32m~/opt/anaconda3/lib/python3.7/site-packages/sklearn/utils/validation.py\u001b[0m in \u001b[0;36minner_f\u001b[0;34m(*args, **kwargs)\u001b[0m\n\u001b[1;32m     70\u001b[0m                           FutureWarning)\n\u001b[1;32m     71\u001b[0m         \u001b[0mkwargs\u001b[0m\u001b[0;34m.\u001b[0m\u001b[0mupdate\u001b[0m\u001b[0;34m(\u001b[0m\u001b[0;34m{\u001b[0m\u001b[0mk\u001b[0m\u001b[0;34m:\u001b[0m \u001b[0marg\u001b[0m \u001b[0;32mfor\u001b[0m \u001b[0mk\u001b[0m\u001b[0;34m,\u001b[0m \u001b[0marg\u001b[0m \u001b[0;32min\u001b[0m \u001b[0mzip\u001b[0m\u001b[0;34m(\u001b[0m\u001b[0msig\u001b[0m\u001b[0;34m.\u001b[0m\u001b[0mparameters\u001b[0m\u001b[0;34m,\u001b[0m \u001b[0margs\u001b[0m\u001b[0;34m)\u001b[0m\u001b[0;34m}\u001b[0m\u001b[0;34m)\u001b[0m\u001b[0;34m\u001b[0m\u001b[0;34m\u001b[0m\u001b[0m\n\u001b[0;32m---> 72\u001b[0;31m         \u001b[0;32mreturn\u001b[0m \u001b[0mf\u001b[0m\u001b[0;34m(\u001b[0m\u001b[0;34m**\u001b[0m\u001b[0mkwargs\u001b[0m\u001b[0;34m)\u001b[0m\u001b[0;34m\u001b[0m\u001b[0;34m\u001b[0m\u001b[0m\n\u001b[0m\u001b[1;32m     73\u001b[0m     \u001b[0;32mreturn\u001b[0m \u001b[0minner_f\u001b[0m\u001b[0;34m\u001b[0m\u001b[0;34m\u001b[0m\u001b[0m\n\u001b[1;32m     74\u001b[0m \u001b[0;34m\u001b[0m\u001b[0m\n",
      "\u001b[0;32m~/opt/anaconda3/lib/python3.7/site-packages/sklearn/model_selection/_search.py\u001b[0m in \u001b[0;36mfit\u001b[0;34m(self, X, y, groups, **fit_params)\u001b[0m\n\u001b[1;32m    734\u001b[0m                 \u001b[0;32mreturn\u001b[0m \u001b[0mresults\u001b[0m\u001b[0;34m\u001b[0m\u001b[0;34m\u001b[0m\u001b[0m\n\u001b[1;32m    735\u001b[0m \u001b[0;34m\u001b[0m\u001b[0m\n\u001b[0;32m--> 736\u001b[0;31m             \u001b[0mself\u001b[0m\u001b[0;34m.\u001b[0m\u001b[0m_run_search\u001b[0m\u001b[0;34m(\u001b[0m\u001b[0mevaluate_candidates\u001b[0m\u001b[0;34m)\u001b[0m\u001b[0;34m\u001b[0m\u001b[0;34m\u001b[0m\u001b[0m\n\u001b[0m\u001b[1;32m    737\u001b[0m \u001b[0;34m\u001b[0m\u001b[0m\n\u001b[1;32m    738\u001b[0m         \u001b[0;31m# For multi-metric evaluation, store the best_index_, best_params_ and\u001b[0m\u001b[0;34m\u001b[0m\u001b[0;34m\u001b[0m\u001b[0;34m\u001b[0m\u001b[0m\n",
      "\u001b[0;32m~/opt/anaconda3/lib/python3.7/site-packages/sklearn/model_selection/_search.py\u001b[0m in \u001b[0;36m_run_search\u001b[0;34m(self, evaluate_candidates)\u001b[0m\n\u001b[1;32m   1186\u001b[0m     \u001b[0;32mdef\u001b[0m \u001b[0m_run_search\u001b[0m\u001b[0;34m(\u001b[0m\u001b[0mself\u001b[0m\u001b[0;34m,\u001b[0m \u001b[0mevaluate_candidates\u001b[0m\u001b[0;34m)\u001b[0m\u001b[0;34m:\u001b[0m\u001b[0;34m\u001b[0m\u001b[0;34m\u001b[0m\u001b[0m\n\u001b[1;32m   1187\u001b[0m         \u001b[0;34m\"\"\"Search all candidates in param_grid\"\"\"\u001b[0m\u001b[0;34m\u001b[0m\u001b[0;34m\u001b[0m\u001b[0m\n\u001b[0;32m-> 1188\u001b[0;31m         \u001b[0mevaluate_candidates\u001b[0m\u001b[0;34m(\u001b[0m\u001b[0mParameterGrid\u001b[0m\u001b[0;34m(\u001b[0m\u001b[0mself\u001b[0m\u001b[0;34m.\u001b[0m\u001b[0mparam_grid\u001b[0m\u001b[0;34m)\u001b[0m\u001b[0;34m)\u001b[0m\u001b[0;34m\u001b[0m\u001b[0;34m\u001b[0m\u001b[0m\n\u001b[0m\u001b[1;32m   1189\u001b[0m \u001b[0;34m\u001b[0m\u001b[0m\n\u001b[1;32m   1190\u001b[0m \u001b[0;34m\u001b[0m\u001b[0m\n",
      "\u001b[0;32m~/opt/anaconda3/lib/python3.7/site-packages/sklearn/model_selection/_search.py\u001b[0m in \u001b[0;36mevaluate_candidates\u001b[0;34m(candidate_params)\u001b[0m\n\u001b[1;32m    713\u001b[0m                                \u001b[0;32mfor\u001b[0m \u001b[0mparameters\u001b[0m\u001b[0;34m,\u001b[0m \u001b[0;34m(\u001b[0m\u001b[0mtrain\u001b[0m\u001b[0;34m,\u001b[0m \u001b[0mtest\u001b[0m\u001b[0;34m)\u001b[0m\u001b[0;34m\u001b[0m\u001b[0;34m\u001b[0m\u001b[0m\n\u001b[1;32m    714\u001b[0m                                in product(candidate_params,\n\u001b[0;32m--> 715\u001b[0;31m                                           cv.split(X, y, groups)))\n\u001b[0m\u001b[1;32m    716\u001b[0m \u001b[0;34m\u001b[0m\u001b[0m\n\u001b[1;32m    717\u001b[0m                 \u001b[0;32mif\u001b[0m \u001b[0mlen\u001b[0m\u001b[0;34m(\u001b[0m\u001b[0mout\u001b[0m\u001b[0;34m)\u001b[0m \u001b[0;34m<\u001b[0m \u001b[0;36m1\u001b[0m\u001b[0;34m:\u001b[0m\u001b[0;34m\u001b[0m\u001b[0;34m\u001b[0m\u001b[0m\n",
      "\u001b[0;32m~/opt/anaconda3/lib/python3.7/site-packages/joblib/parallel.py\u001b[0m in \u001b[0;36m__call__\u001b[0;34m(self, iterable)\u001b[0m\n\u001b[1;32m   1015\u001b[0m \u001b[0;34m\u001b[0m\u001b[0m\n\u001b[1;32m   1016\u001b[0m             \u001b[0;32mwith\u001b[0m \u001b[0mself\u001b[0m\u001b[0;34m.\u001b[0m\u001b[0m_backend\u001b[0m\u001b[0;34m.\u001b[0m\u001b[0mretrieval_context\u001b[0m\u001b[0;34m(\u001b[0m\u001b[0;34m)\u001b[0m\u001b[0;34m:\u001b[0m\u001b[0;34m\u001b[0m\u001b[0;34m\u001b[0m\u001b[0m\n\u001b[0;32m-> 1017\u001b[0;31m                 \u001b[0mself\u001b[0m\u001b[0;34m.\u001b[0m\u001b[0mretrieve\u001b[0m\u001b[0;34m(\u001b[0m\u001b[0;34m)\u001b[0m\u001b[0;34m\u001b[0m\u001b[0;34m\u001b[0m\u001b[0m\n\u001b[0m\u001b[1;32m   1018\u001b[0m             \u001b[0;31m# Make sure that we get a last message telling us we are done\u001b[0m\u001b[0;34m\u001b[0m\u001b[0;34m\u001b[0m\u001b[0;34m\u001b[0m\u001b[0m\n\u001b[1;32m   1019\u001b[0m             \u001b[0melapsed_time\u001b[0m \u001b[0;34m=\u001b[0m \u001b[0mtime\u001b[0m\u001b[0;34m.\u001b[0m\u001b[0mtime\u001b[0m\u001b[0;34m(\u001b[0m\u001b[0;34m)\u001b[0m \u001b[0;34m-\u001b[0m \u001b[0mself\u001b[0m\u001b[0;34m.\u001b[0m\u001b[0m_start_time\u001b[0m\u001b[0;34m\u001b[0m\u001b[0;34m\u001b[0m\u001b[0m\n",
      "\u001b[0;32m~/opt/anaconda3/lib/python3.7/site-packages/joblib/parallel.py\u001b[0m in \u001b[0;36mretrieve\u001b[0;34m(self)\u001b[0m\n\u001b[1;32m    907\u001b[0m             \u001b[0;32mtry\u001b[0m\u001b[0;34m:\u001b[0m\u001b[0;34m\u001b[0m\u001b[0;34m\u001b[0m\u001b[0m\n\u001b[1;32m    908\u001b[0m                 \u001b[0;32mif\u001b[0m \u001b[0mgetattr\u001b[0m\u001b[0;34m(\u001b[0m\u001b[0mself\u001b[0m\u001b[0;34m.\u001b[0m\u001b[0m_backend\u001b[0m\u001b[0;34m,\u001b[0m \u001b[0;34m'supports_timeout'\u001b[0m\u001b[0;34m,\u001b[0m \u001b[0;32mFalse\u001b[0m\u001b[0;34m)\u001b[0m\u001b[0;34m:\u001b[0m\u001b[0;34m\u001b[0m\u001b[0;34m\u001b[0m\u001b[0m\n\u001b[0;32m--> 909\u001b[0;31m                     \u001b[0mself\u001b[0m\u001b[0;34m.\u001b[0m\u001b[0m_output\u001b[0m\u001b[0;34m.\u001b[0m\u001b[0mextend\u001b[0m\u001b[0;34m(\u001b[0m\u001b[0mjob\u001b[0m\u001b[0;34m.\u001b[0m\u001b[0mget\u001b[0m\u001b[0;34m(\u001b[0m\u001b[0mtimeout\u001b[0m\u001b[0;34m=\u001b[0m\u001b[0mself\u001b[0m\u001b[0;34m.\u001b[0m\u001b[0mtimeout\u001b[0m\u001b[0;34m)\u001b[0m\u001b[0;34m)\u001b[0m\u001b[0;34m\u001b[0m\u001b[0;34m\u001b[0m\u001b[0m\n\u001b[0m\u001b[1;32m    910\u001b[0m                 \u001b[0;32melse\u001b[0m\u001b[0;34m:\u001b[0m\u001b[0;34m\u001b[0m\u001b[0;34m\u001b[0m\u001b[0m\n\u001b[1;32m    911\u001b[0m                     \u001b[0mself\u001b[0m\u001b[0;34m.\u001b[0m\u001b[0m_output\u001b[0m\u001b[0;34m.\u001b[0m\u001b[0mextend\u001b[0m\u001b[0;34m(\u001b[0m\u001b[0mjob\u001b[0m\u001b[0;34m.\u001b[0m\u001b[0mget\u001b[0m\u001b[0;34m(\u001b[0m\u001b[0;34m)\u001b[0m\u001b[0;34m)\u001b[0m\u001b[0;34m\u001b[0m\u001b[0;34m\u001b[0m\u001b[0m\n",
      "\u001b[0;32m~/opt/anaconda3/lib/python3.7/site-packages/joblib/_parallel_backends.py\u001b[0m in \u001b[0;36mwrap_future_result\u001b[0;34m(future, timeout)\u001b[0m\n\u001b[1;32m    560\u001b[0m         AsyncResults.get from multiprocessing.\"\"\"\n\u001b[1;32m    561\u001b[0m         \u001b[0;32mtry\u001b[0m\u001b[0;34m:\u001b[0m\u001b[0;34m\u001b[0m\u001b[0;34m\u001b[0m\u001b[0m\n\u001b[0;32m--> 562\u001b[0;31m             \u001b[0;32mreturn\u001b[0m \u001b[0mfuture\u001b[0m\u001b[0;34m.\u001b[0m\u001b[0mresult\u001b[0m\u001b[0;34m(\u001b[0m\u001b[0mtimeout\u001b[0m\u001b[0;34m=\u001b[0m\u001b[0mtimeout\u001b[0m\u001b[0;34m)\u001b[0m\u001b[0;34m\u001b[0m\u001b[0;34m\u001b[0m\u001b[0m\n\u001b[0m\u001b[1;32m    563\u001b[0m         \u001b[0;32mexcept\u001b[0m \u001b[0mLokyTimeoutError\u001b[0m\u001b[0;34m:\u001b[0m\u001b[0;34m\u001b[0m\u001b[0;34m\u001b[0m\u001b[0m\n\u001b[1;32m    564\u001b[0m             \u001b[0;32mraise\u001b[0m \u001b[0mTimeoutError\u001b[0m\u001b[0;34m(\u001b[0m\u001b[0;34m)\u001b[0m\u001b[0;34m\u001b[0m\u001b[0;34m\u001b[0m\u001b[0m\n",
      "\u001b[0;32m~/opt/anaconda3/lib/python3.7/concurrent/futures/_base.py\u001b[0m in \u001b[0;36mresult\u001b[0;34m(self, timeout)\u001b[0m\n\u001b[1;32m    428\u001b[0m                 \u001b[0;32mreturn\u001b[0m \u001b[0mself\u001b[0m\u001b[0;34m.\u001b[0m\u001b[0m__get_result\u001b[0m\u001b[0;34m(\u001b[0m\u001b[0;34m)\u001b[0m\u001b[0;34m\u001b[0m\u001b[0;34m\u001b[0m\u001b[0m\n\u001b[1;32m    429\u001b[0m \u001b[0;34m\u001b[0m\u001b[0m\n\u001b[0;32m--> 430\u001b[0;31m             \u001b[0mself\u001b[0m\u001b[0;34m.\u001b[0m\u001b[0m_condition\u001b[0m\u001b[0;34m.\u001b[0m\u001b[0mwait\u001b[0m\u001b[0;34m(\u001b[0m\u001b[0mtimeout\u001b[0m\u001b[0;34m)\u001b[0m\u001b[0;34m\u001b[0m\u001b[0;34m\u001b[0m\u001b[0m\n\u001b[0m\u001b[1;32m    431\u001b[0m \u001b[0;34m\u001b[0m\u001b[0m\n\u001b[1;32m    432\u001b[0m             \u001b[0;32mif\u001b[0m \u001b[0mself\u001b[0m\u001b[0;34m.\u001b[0m\u001b[0m_state\u001b[0m \u001b[0;32min\u001b[0m \u001b[0;34m[\u001b[0m\u001b[0mCANCELLED\u001b[0m\u001b[0;34m,\u001b[0m \u001b[0mCANCELLED_AND_NOTIFIED\u001b[0m\u001b[0;34m]\u001b[0m\u001b[0;34m:\u001b[0m\u001b[0;34m\u001b[0m\u001b[0;34m\u001b[0m\u001b[0m\n",
      "\u001b[0;32m~/opt/anaconda3/lib/python3.7/threading.py\u001b[0m in \u001b[0;36mwait\u001b[0;34m(self, timeout)\u001b[0m\n\u001b[1;32m    294\u001b[0m         \u001b[0;32mtry\u001b[0m\u001b[0;34m:\u001b[0m    \u001b[0;31m# restore state no matter what (e.g., KeyboardInterrupt)\u001b[0m\u001b[0;34m\u001b[0m\u001b[0;34m\u001b[0m\u001b[0m\n\u001b[1;32m    295\u001b[0m             \u001b[0;32mif\u001b[0m \u001b[0mtimeout\u001b[0m \u001b[0;32mis\u001b[0m \u001b[0;32mNone\u001b[0m\u001b[0;34m:\u001b[0m\u001b[0;34m\u001b[0m\u001b[0;34m\u001b[0m\u001b[0m\n\u001b[0;32m--> 296\u001b[0;31m                 \u001b[0mwaiter\u001b[0m\u001b[0;34m.\u001b[0m\u001b[0macquire\u001b[0m\u001b[0;34m(\u001b[0m\u001b[0;34m)\u001b[0m\u001b[0;34m\u001b[0m\u001b[0;34m\u001b[0m\u001b[0m\n\u001b[0m\u001b[1;32m    297\u001b[0m                 \u001b[0mgotit\u001b[0m \u001b[0;34m=\u001b[0m \u001b[0;32mTrue\u001b[0m\u001b[0;34m\u001b[0m\u001b[0;34m\u001b[0m\u001b[0m\n\u001b[1;32m    298\u001b[0m             \u001b[0;32melse\u001b[0m\u001b[0;34m:\u001b[0m\u001b[0;34m\u001b[0m\u001b[0;34m\u001b[0m\u001b[0m\n",
      "\u001b[0;31mKeyboardInterrupt\u001b[0m: "
     ]
    }
   ],
   "source": [
    "random_forest_grid = {'max_depth': [3, None],\n",
    "                      'max_features': ['sqrt', 'log2', None],\n",
    "                      'min_samples_split': [2, 4],\n",
    "                      'min_samples_leaf': [1, 2, 4],\n",
    "                      'bootstrap': [True, False],\n",
    "                      'n_estimators': [10, 20, 40, 80],\n",
    "                      'random_state': [1]}\n",
    "rf_best_params, rf_best_model = gridsearch_with_output(RandomForestClassifier(), \n",
    "                                                       random_forest_grid, \n",
    "                                                       X_rf_over_train, y_rf_over_train)"
   ]
  },
  {
   "cell_type": "code",
   "execution_count": 212,
   "metadata": {},
   "outputs": [
    {
     "name": "stdout",
     "output_type": "stream",
     "text": [
      "Accuracy: 0.700\n",
      "Precision: 0.776\n",
      "Recall: 0.564\n",
      "F1 score: 0.654\n"
     ]
    }
   ],
   "source": [
    "rf = RandomForestClassifier(max_features=\"sqrt\", min_samples_split=2, min_samples_leaf =1, bootstrap = True, n_estimators=10, random_state=1)\n",
    "\n",
    "rf.fit(X_rf_over_train, y_rf_over_train)\n",
    "y_rf_over_preds = model.predict(X_rf_over_test)\n",
    "generate_model_report(y_rf_over_test, y_rf_over_preds)"
   ]
  },
  {
   "cell_type": "code",
   "execution_count": 213,
   "metadata": {},
   "outputs": [
    {
     "name": "stdout",
     "output_type": "stream",
     "text": [
      "Accuracy: 0.795\n",
      "Precision: 0.427\n",
      "Recall: 0.580\n",
      "F1 score: 0.492\n"
     ]
    }
   ],
   "source": [
    "y_final_preds = rf.predict(X_rf_test)\n",
    "generate_model_report(y_rf_test, y_final_preds)"
   ]
  },
  {
   "cell_type": "code",
   "execution_count": null,
   "metadata": {},
   "outputs": [],
   "source": []
  }
 ],
 "metadata": {
  "kernelspec": {
   "display_name": "Python 3",
   "language": "python",
   "name": "python3"
  },
  "language_info": {
   "codemirror_mode": {
    "name": "ipython",
    "version": 3
   },
   "file_extension": ".py",
   "mimetype": "text/x-python",
   "name": "python",
   "nbconvert_exporter": "python",
   "pygments_lexer": "ipython3",
   "version": "3.7.7"
  }
 },
 "nbformat": 4,
 "nbformat_minor": 4
}
